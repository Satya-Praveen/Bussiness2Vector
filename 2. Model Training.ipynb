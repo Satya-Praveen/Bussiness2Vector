{
 "cells": [
  {
   "cell_type": "markdown",
   "metadata": {},
   "source": [
    "# 2. Model Training "
   ]
  },
  {
   "cell_type": "markdown",
   "metadata": {},
   "source": [
    "##### *Libraries Used*"
   ]
  },
  {
   "cell_type": "code",
   "execution_count": 7,
   "metadata": {},
   "outputs": [
    {
     "name": "stderr",
     "output_type": "stream",
     "text": [
      "Using TensorFlow backend.\n"
     ]
    }
   ],
   "source": [
    "%matplotlib inline\n",
    "import numpy as np\n",
    "import pandas as pd\n",
    "from sqlite3 import dbapi2 as sq3\n",
    "import os\n",
    "import multiprocessing\n",
    "from pprint import pprint\n",
    "import itertools\n",
    "from nltk.corpus import stopwords\n",
    "import gensim\n",
    "from random import randint\n",
    "pd.set_option('display.width', 500)\n",
    "pd.set_option('display.max_columns', 100)\n",
    "pd.set_option('display.notebook_repr_html', True)"
   ]
  },
  {
   "cell_type": "code",
   "execution_count": 8,
   "metadata": {},
   "outputs": [],
   "source": [
    "comp_db = sq3.connect('data/processed/comp_data.db')"
   ]
  },
  {
   "cell_type": "code",
   "execution_count": 9,
   "metadata": {},
   "outputs": [],
   "source": [
    "company_pd = pd.read_sql(\"SELECT * FROM comp_descr;\", comp_db)"
   ]
  },
  {
   "cell_type": "code",
   "execution_count": 10,
   "metadata": {},
   "outputs": [
    {
     "data": {
      "text/html": [
       "<div>\n",
       "<style scoped>\n",
       "    .dataframe tbody tr th:only-of-type {\n",
       "        vertical-align: middle;\n",
       "    }\n",
       "\n",
       "    .dataframe tbody tr th {\n",
       "        vertical-align: top;\n",
       "    }\n",
       "\n",
       "    .dataframe thead th {\n",
       "        text-align: right;\n",
       "    }\n",
       "</style>\n",
       "<table border=\"1\" class=\"dataframe\">\n",
       "  <thead>\n",
       "    <tr style=\"text-align: right;\">\n",
       "      <th></th>\n",
       "      <th>comp_ID</th>\n",
       "      <th>comp_op_name</th>\n",
       "      <th>comp_prof</th>\n",
       "      <th>prod_name</th>\n",
       "      <th>prim_NAICS_sec</th>\n",
       "      <th>prim_NAICS</th>\n",
       "      <th>prim_bus_activity</th>\n",
       "      <th>tot_sales</th>\n",
       "      <th>num_employees</th>\n",
       "      <th>country_of_ownership</th>\n",
       "      <th>exporting</th>\n",
       "      <th>year_estab</th>\n",
       "    </tr>\n",
       "  </thead>\n",
       "  <tbody>\n",
       "    <tr>\n",
       "      <th>0</th>\n",
       "      <td>00001</td>\n",
       "      <td>Agrideria</td>\n",
       "      <td>AGRIDERIA INDUSTRIAL IS AN INTERNATIONAL PROD...</td>\n",
       "      <td>Yellow Corn (Maize) Yellow Corn (Maize) For Hu...</td>\n",
       "      <td>Soybean Farming</td>\n",
       "      <td>111110</td>\n",
       "      <td>Manufacturer/ Processor/ Producer</td>\n",
       "      <td>over 50,000,000</td>\n",
       "      <td>32</td>\n",
       "      <td>Foreign</td>\n",
       "      <td>Yes</td>\n",
       "      <td>2005</td>\n",
       "    </tr>\n",
       "    <tr>\n",
       "      <th>1</th>\n",
       "      <td>00003</td>\n",
       "      <td>Thompsons Limited</td>\n",
       "      <td>- Commodity handling &amp; processing, Oilseeds (...</td>\n",
       "      <td>Barley, Chopped, Crushed Or Ground /Feed/ Whea...</td>\n",
       "      <td>Support Activitiesfor Crop Production</td>\n",
       "      <td>115110</td>\n",
       "      <td>Manufacturer/ Processor/ Producer</td>\n",
       "      <td>over 50,000,000</td>\n",
       "      <td>250</td>\n",
       "      <td>Foreign</td>\n",
       "      <td>Yes</td>\n",
       "      <td>1924</td>\n",
       "    </tr>\n",
       "    <tr>\n",
       "      <th>2</th>\n",
       "      <td>00004</td>\n",
       "      <td>Belle Pulses Ltd.</td>\n",
       "      <td></td>\n",
       "      <td>Pulse Products Misc. Yellow &amp; Green Split Peas...</td>\n",
       "      <td>Dry Peaand Bean Farming</td>\n",
       "      <td>111130</td>\n",
       "      <td>Manufacturer/ Processor/ Producer</td>\n",
       "      <td></td>\n",
       "      <td></td>\n",
       "      <td>Canada</td>\n",
       "      <td>Yes</td>\n",
       "      <td></td>\n",
       "    </tr>\n",
       "    <tr>\n",
       "      <th>3</th>\n",
       "      <td>00007</td>\n",
       "      <td>SunSelect Produce</td>\n",
       "      <td>At SunSelect, we take our responsibility to o...</td>\n",
       "      <td>Tomato, Bell Pepper, Cucumber Year Round Produ...</td>\n",
       "      <td>Other Food Crops Grown Under Cover</td>\n",
       "      <td>111419</td>\n",
       "      <td>Manufacturer/ Processor/ Producer</td>\n",
       "      <td></td>\n",
       "      <td>350</td>\n",
       "      <td>Canada</td>\n",
       "      <td>Yes</td>\n",
       "      <td>1985</td>\n",
       "    </tr>\n",
       "    <tr>\n",
       "      <th>4</th>\n",
       "      <td>00009</td>\n",
       "      <td>Funk's Blueberries</td>\n",
       "      <td>Cultivate blueberries</td>\n",
       "      <td>Blueberries Blueberries</td>\n",
       "      <td>Non- Citrus Fruitand Tree Nut Farming</td>\n",
       "      <td>111330</td>\n",
       "      <td>Manufacturer/ Processor/ Producer</td>\n",
       "      <td></td>\n",
       "      <td></td>\n",
       "      <td>Canada</td>\n",
       "      <td>No</td>\n",
       "      <td></td>\n",
       "    </tr>\n",
       "  </tbody>\n",
       "</table>\n",
       "</div>"
      ],
      "text/plain": [
       "  comp_ID        comp_op_name                                          comp_prof                                          prod_name                         prim_NAICS_sec prim_NAICS                  prim_bus_activity        tot_sales num_employees country_of_ownership exporting year_estab\n",
       "0   00001           Agrideria   AGRIDERIA INDUSTRIAL IS AN INTERNATIONAL PROD...  Yellow Corn (Maize) Yellow Corn (Maize) For Hu...                        Soybean Farming     111110  Manufacturer/ Processor/ Producer  over 50,000,000            32              Foreign       Yes       2005\n",
       "1   00003   Thompsons Limited   - Commodity handling & processing, Oilseeds (...  Barley, Chopped, Crushed Or Ground /Feed/ Whea...  Support Activitiesfor Crop Production     115110  Manufacturer/ Processor/ Producer  over 50,000,000           250              Foreign       Yes       1924\n",
       "2   00004   Belle Pulses Ltd.                                                     Pulse Products Misc. Yellow & Green Split Peas...                Dry Peaand Bean Farming     111130  Manufacturer/ Processor/ Producer                                              Canada       Yes           \n",
       "3   00007   SunSelect Produce   At SunSelect, we take our responsibility to o...  Tomato, Bell Pepper, Cucumber Year Round Produ...     Other Food Crops Grown Under Cover     111419  Manufacturer/ Processor/ Producer                            350               Canada       Yes       1985\n",
       "4   00009  Funk's Blueberries                              Cultivate blueberries                            Blueberries Blueberries  Non- Citrus Fruitand Tree Nut Farming     111330  Manufacturer/ Processor/ Producer                                              Canada        No           "
      ]
     },
     "execution_count": 10,
     "metadata": {},
     "output_type": "execute_result"
    }
   ],
   "source": [
    "company_pd.head()"
   ]
  },
  {
   "cell_type": "code",
   "execution_count": 593,
   "metadata": {
    "scrolled": true
   },
   "outputs": [
    {
     "data": {
      "text/html": [
       "<div>\n",
       "<style scoped>\n",
       "    .dataframe tbody tr th:only-of-type {\n",
       "        vertical-align: middle;\n",
       "    }\n",
       "\n",
       "    .dataframe tbody tr th {\n",
       "        vertical-align: top;\n",
       "    }\n",
       "\n",
       "    .dataframe thead th {\n",
       "        text-align: right;\n",
       "    }\n",
       "</style>\n",
       "<table border=\"1\" class=\"dataframe\">\n",
       "  <thead>\n",
       "    <tr style=\"text-align: right;\">\n",
       "      <th></th>\n",
       "      <th>comp_ID</th>\n",
       "      <th>prim_NAICS_sec</th>\n",
       "      <th>comp_prof</th>\n",
       "      <th>prod_name</th>\n",
       "    </tr>\n",
       "  </thead>\n",
       "  <tbody>\n",
       "    <tr>\n",
       "      <th>0</th>\n",
       "      <td>00001</td>\n",
       "      <td>Soybean Farming</td>\n",
       "      <td>AGRIDERIA INDUSTRIAL IS AN INTERNATIONAL PROD...</td>\n",
       "      <td>Yellow Corn (Maize) Yellow Corn (Maize) For Hu...</td>\n",
       "    </tr>\n",
       "    <tr>\n",
       "      <th>1</th>\n",
       "      <td>00003</td>\n",
       "      <td>Support Activitiesfor Crop Production</td>\n",
       "      <td>- Commodity handling &amp; processing, Oilseeds (...</td>\n",
       "      <td>Barley, Chopped, Crushed Or Ground /Feed/ Whea...</td>\n",
       "    </tr>\n",
       "    <tr>\n",
       "      <th>2</th>\n",
       "      <td>00004</td>\n",
       "      <td>Dry Peaand Bean Farming</td>\n",
       "      <td></td>\n",
       "      <td>Pulse Products Misc. Yellow &amp; Green Split Peas...</td>\n",
       "    </tr>\n",
       "    <tr>\n",
       "      <th>3</th>\n",
       "      <td>00007</td>\n",
       "      <td>Other Food Crops Grown Under Cover</td>\n",
       "      <td>At SunSelect, we take our responsibility to o...</td>\n",
       "      <td>Tomato, Bell Pepper, Cucumber Year Round Produ...</td>\n",
       "    </tr>\n",
       "    <tr>\n",
       "      <th>4</th>\n",
       "      <td>00009</td>\n",
       "      <td>Non- Citrus Fruitand Tree Nut Farming</td>\n",
       "      <td>Cultivate blueberries</td>\n",
       "      <td>Blueberries Blueberries</td>\n",
       "    </tr>\n",
       "  </tbody>\n",
       "</table>\n",
       "</div>"
      ],
      "text/plain": [
       "  comp_ID                         prim_NAICS_sec                                          comp_prof                                          prod_name\n",
       "0   00001                        Soybean Farming   AGRIDERIA INDUSTRIAL IS AN INTERNATIONAL PROD...  Yellow Corn (Maize) Yellow Corn (Maize) For Hu...\n",
       "1   00003  Support Activitiesfor Crop Production   - Commodity handling & processing, Oilseeds (...  Barley, Chopped, Crushed Or Ground /Feed/ Whea...\n",
       "2   00004                Dry Peaand Bean Farming                                                     Pulse Products Misc. Yellow & Green Split Peas...\n",
       "3   00007     Other Food Crops Grown Under Cover   At SunSelect, we take our responsibility to o...  Tomato, Bell Pepper, Cucumber Year Round Produ...\n",
       "4   00009  Non- Citrus Fruitand Tree Nut Farming                              Cultivate blueberries                            Blueberries Blueberries"
      ]
     },
     "execution_count": 593,
     "metadata": {},
     "output_type": "execute_result"
    }
   ],
   "source": [
    "fulldf = company_pd[['comp_ID', 'prim_NAICS_sec','comp_prof','prod_name']];fulldf.head()"
   ]
  },
  {
   "cell_type": "code",
   "execution_count": 594,
   "metadata": {
    "scrolled": true
   },
   "outputs": [],
   "source": [
    "stop_words = set(stopwords.words(\"english\"))\n",
    "\n",
    "def sep_7(l):\n",
    "    result = gensim.utils.simple_preprocess(l)\n",
    "    result = [w for w in result if not w in stop_words]\n",
    "    return result\n",
    "\n"
   ]
  },
  {
   "cell_type": "code",
   "execution_count": 595,
   "metadata": {},
   "outputs": [
    {
     "data": {
      "text/html": [
       "<div>\n",
       "<style scoped>\n",
       "    .dataframe tbody tr th:only-of-type {\n",
       "        vertical-align: middle;\n",
       "    }\n",
       "\n",
       "    .dataframe tbody tr th {\n",
       "        vertical-align: top;\n",
       "    }\n",
       "\n",
       "    .dataframe thead th {\n",
       "        text-align: right;\n",
       "    }\n",
       "</style>\n",
       "<table border=\"1\" class=\"dataframe\">\n",
       "  <thead>\n",
       "    <tr style=\"text-align: right;\">\n",
       "      <th></th>\n",
       "      <th>comp_ID</th>\n",
       "      <th>prim_NAICS_sec</th>\n",
       "      <th>comp_prof</th>\n",
       "      <th>prod_name</th>\n",
       "      <th>stem_words</th>\n",
       "    </tr>\n",
       "  </thead>\n",
       "  <tbody>\n",
       "    <tr>\n",
       "      <th>0</th>\n",
       "      <td>00001</td>\n",
       "      <td>Soybean Farming</td>\n",
       "      <td>AGRIDERIA INDUSTRIAL IS AN INTERNATIONAL PROD...</td>\n",
       "      <td>Yellow Corn (Maize) Yellow Corn (Maize) For Hu...</td>\n",
       "      <td>Soybean Farming  AGRIDERIA INDUSTRIAL IS AN IN...</td>\n",
       "    </tr>\n",
       "    <tr>\n",
       "      <th>1</th>\n",
       "      <td>00003</td>\n",
       "      <td>Support Activitiesfor Crop Production</td>\n",
       "      <td>- Commodity handling &amp; processing, Oilseeds (...</td>\n",
       "      <td>Barley, Chopped, Crushed Or Ground /Feed/ Whea...</td>\n",
       "      <td>Support Activitiesfor Crop Production  - Commo...</td>\n",
       "    </tr>\n",
       "    <tr>\n",
       "      <th>2</th>\n",
       "      <td>00004</td>\n",
       "      <td>Dry Peaand Bean Farming</td>\n",
       "      <td></td>\n",
       "      <td>Pulse Products Misc. Yellow &amp; Green Split Peas...</td>\n",
       "      <td>Dry Peaand Bean Farming  Pulse Products Misc. ...</td>\n",
       "    </tr>\n",
       "    <tr>\n",
       "      <th>3</th>\n",
       "      <td>00007</td>\n",
       "      <td>Other Food Crops Grown Under Cover</td>\n",
       "      <td>At SunSelect, we take our responsibility to o...</td>\n",
       "      <td>Tomato, Bell Pepper, Cucumber Year Round Produ...</td>\n",
       "      <td>Other Food Crops Grown Under Cover  At SunSele...</td>\n",
       "    </tr>\n",
       "    <tr>\n",
       "      <th>4</th>\n",
       "      <td>00009</td>\n",
       "      <td>Non- Citrus Fruitand Tree Nut Farming</td>\n",
       "      <td>Cultivate blueberries</td>\n",
       "      <td>Blueberries Blueberries</td>\n",
       "      <td>Non- Citrus Fruitand Tree Nut Farming  Cultiva...</td>\n",
       "    </tr>\n",
       "  </tbody>\n",
       "</table>\n",
       "</div>"
      ],
      "text/plain": [
       "  comp_ID                         prim_NAICS_sec                                          comp_prof                                          prod_name                                         stem_words\n",
       "0   00001                        Soybean Farming   AGRIDERIA INDUSTRIAL IS AN INTERNATIONAL PROD...  Yellow Corn (Maize) Yellow Corn (Maize) For Hu...  Soybean Farming  AGRIDERIA INDUSTRIAL IS AN IN...\n",
       "1   00003  Support Activitiesfor Crop Production   - Commodity handling & processing, Oilseeds (...  Barley, Chopped, Crushed Or Ground /Feed/ Whea...  Support Activitiesfor Crop Production  - Commo...\n",
       "2   00004                Dry Peaand Bean Farming                                                     Pulse Products Misc. Yellow & Green Split Peas...  Dry Peaand Bean Farming  Pulse Products Misc. ...\n",
       "3   00007     Other Food Crops Grown Under Cover   At SunSelect, we take our responsibility to o...  Tomato, Bell Pepper, Cucumber Year Round Produ...  Other Food Crops Grown Under Cover  At SunSele...\n",
       "4   00009  Non- Citrus Fruitand Tree Nut Farming                              Cultivate blueberries                            Blueberries Blueberries  Non- Citrus Fruitand Tree Nut Farming  Cultiva..."
      ]
     },
     "execution_count": 595,
     "metadata": {},
     "output_type": "execute_result"
    }
   ],
   "source": [
    "fulldf['stem_words'] = fulldf[['prim_NAICS_sec', 'comp_prof','prod_name']].apply(lambda x: ' '.join(x),axis=1)\n",
    "fulldf.head()"
   ]
  },
  {
   "cell_type": "code",
   "execution_count": 596,
   "metadata": {
    "scrolled": true
   },
   "outputs": [],
   "source": [
    "fulldf['stem_words'] = fulldf['stem_words'].apply(sep_7)"
   ]
  },
  {
   "cell_type": "code",
   "execution_count": 597,
   "metadata": {},
   "outputs": [],
   "source": [
    "fulldf['comp_ID'] = fulldf['comp_ID'].str.split()"
   ]
  },
  {
   "cell_type": "code",
   "execution_count": 598,
   "metadata": {},
   "outputs": [
    {
     "data": {
      "text/html": [
       "<div>\n",
       "<style scoped>\n",
       "    .dataframe tbody tr th:only-of-type {\n",
       "        vertical-align: middle;\n",
       "    }\n",
       "\n",
       "    .dataframe tbody tr th {\n",
       "        vertical-align: top;\n",
       "    }\n",
       "\n",
       "    .dataframe thead th {\n",
       "        text-align: right;\n",
       "    }\n",
       "</style>\n",
       "<table border=\"1\" class=\"dataframe\">\n",
       "  <thead>\n",
       "    <tr style=\"text-align: right;\">\n",
       "      <th></th>\n",
       "      <th>comp_ID</th>\n",
       "      <th>stem_words</th>\n",
       "    </tr>\n",
       "  </thead>\n",
       "  <tbody>\n",
       "    <tr>\n",
       "      <th>0</th>\n",
       "      <td>[00001]</td>\n",
       "      <td>[soybean, farming, agrideria, industrial, inte...</td>\n",
       "    </tr>\n",
       "    <tr>\n",
       "      <th>1</th>\n",
       "      <td>[00003]</td>\n",
       "      <td>[support, activitiesfor, crop, production, com...</td>\n",
       "    </tr>\n",
       "    <tr>\n",
       "      <th>2</th>\n",
       "      <td>[00004]</td>\n",
       "      <td>[dry, peaand, bean, farming, pulse, products, ...</td>\n",
       "    </tr>\n",
       "    <tr>\n",
       "      <th>3</th>\n",
       "      <td>[00007]</td>\n",
       "      <td>[food, crops, grown, cover, sunselect, take, r...</td>\n",
       "    </tr>\n",
       "    <tr>\n",
       "      <th>4</th>\n",
       "      <td>[00009]</td>\n",
       "      <td>[non, citrus, fruitand, tree, nut, farming, cu...</td>\n",
       "    </tr>\n",
       "  </tbody>\n",
       "</table>\n",
       "</div>"
      ],
      "text/plain": [
       "   comp_ID                                         stem_words\n",
       "0  [00001]  [soybean, farming, agrideria, industrial, inte...\n",
       "1  [00003]  [support, activitiesfor, crop, production, com...\n",
       "2  [00004]  [dry, peaand, bean, farming, pulse, products, ...\n",
       "3  [00007]  [food, crops, grown, cover, sunselect, take, r...\n",
       "4  [00009]  [non, citrus, fruitand, tree, nut, farming, cu..."
      ]
     },
     "execution_count": 598,
     "metadata": {},
     "output_type": "execute_result"
    }
   ],
   "source": [
    "fulldf = fulldf[['comp_ID','stem_words']]; fulldf.head()"
   ]
  },
  {
   "cell_type": "markdown",
   "metadata": {},
   "source": [
    "### Define a `TaggedDocument` class to Preprocess Text\n",
    "Below, we define an object class to associate each company ID to its respective description. \n"
   ]
  },
  {
   "cell_type": "code",
   "execution_count": 599,
   "metadata": {},
   "outputs": [],
   "source": [
    "class TaggedSentence(object):\n",
    "    def __init__(self, doc_list, labels_list):\n",
    "        self.labels_list = labels_list\n",
    "        self.doc_list = doc_list\n",
    "        \n",
    "    def __iter__(self):\n",
    "        for idx, doc in enumerate(self.doc_list):\n",
    "              yield gensim.models.doc2vec.TaggedDocument(doc, self.labels_list[idx])\n",
    "\n",
    "    def to_array(self):\n",
    "        self.sentences = []\n",
    "        for idx, doc in enumerate(self.doc_list):\n",
    "            self.sentences.append(gensim.models.doc2vec.TaggedDocument(doc, self.labels_list[idx]))\n",
    "        return self.sentences\n",
    "    \n",
    "documents = TaggedSentence(fulldf.stem_words, fulldf.comp_ID)"
   ]
  },
  {
   "cell_type": "code",
   "execution_count": 600,
   "metadata": {},
   "outputs": [
    {
     "data": {
      "text/plain": [
       "TaggedDocument(words=['soybean', 'farming', 'agrideria', 'industrial', 'international', 'producer', 'supplier', 'exporter', 'sought', 'agriculture', 'commodities', 'yellow', 'corn', 'soybean', 'soybean', 'meal', 'grains', 'end', 'buyer', 'willing', 'able', 'purchase', 'commodities', 'work', 'argentina', 'brazil', 'paraguay', 'uruguay', 'able', 'willing', 'supply', 'buyer', 'year', 'round', 'current', 'products', 'work', 'directly', 'producers', 'producer', 'associations', 'co', 'operatives', 'keep', 'prices', 'competitive', 'seeking', 'long', 'short', 'term', 'supplier', 'commodities', 'contact', 'us', 'save', 'time', 'money', 'working', 'genuine', 'seller', 'yellow', 'corn', 'maize', 'yellow', 'corn', 'maize', 'human', 'consumption', 'animal', 'feed', 'minimum', 'quantity', 'mt', 'maximum', 'quantity', 'mt', 'spot', 'year', 'contract', 'soybean', 'soybean', 'human', 'consumption', 'animal', 'feed', 'minimum', 'quantity', 'mt', 'maximum', 'quantity', 'mt', 'spot', 'year', 'contract', 'soybean', 'meal', 'animal', 'feed', 'soybean', 'meal', 'animal', 'feed', 'minimum', 'quantity', 'mt', 'maximum', 'quantity', 'mt', 'spot', 'year', 'contract'], tags=['00001'])"
      ]
     },
     "execution_count": 600,
     "metadata": {},
     "output_type": "execute_result"
    }
   ],
   "source": [
    "documents.to_array()[0]"
   ]
  },
  {
   "cell_type": "markdown",
   "metadata": {},
   "source": [
    "### Instantiate a Doc2Vec Object\n",
    "Now, we'll instantiate a Doc2Vec model (PV-DBOW) with a vector size with 290 words and iterating over the training corpus 55 times. We set the minimum word count to 2 in order to give higher frequency words more weighting"
   ]
  },
  {
   "cell_type": "code",
   "execution_count": 697,
   "metadata": {
    "scrolled": false
   },
   "outputs": [
    {
     "name": "stderr",
     "output_type": "stream",
     "text": [
      "2018-06-24 21:56:29,485 - doc2vec - INFO - collecting all words and their counts\n",
      "2018-06-24 21:56:29,487 - doc2vec - INFO - PROGRESS: at example #0, processed 0 words (0/s), 0 word types, 0 tags\n",
      "2018-06-24 21:56:29,677 - doc2vec - INFO - PROGRESS: at example #10000, processed 763381 words (4022511/s), 40913 word types, 10000 tags\n",
      "2018-06-24 21:56:29,934 - doc2vec - INFO - PROGRESS: at example #20000, processed 1897617 words (4433218/s), 66173 word types, 20000 tags\n",
      "2018-06-24 21:56:30,160 - doc2vec - INFO - PROGRESS: at example #30000, processed 2877825 words (4346666/s), 83627 word types, 30000 tags\n",
      "2018-06-24 21:56:30,445 - doc2vec - INFO - PROGRESS: at example #40000, processed 4139545 words (4438121/s), 98564 word types, 40000 tags\n",
      "2018-06-24 21:56:30,589 - doc2vec - INFO - collected 106182 word types and 46873 unique tags from a corpus of 46873 examples and 4818734 words\n",
      "2018-06-24 21:56:30,590 - word2vec - INFO - Loading a fresh vocabulary\n",
      "2018-06-24 21:56:30,716 - word2vec - INFO - min_count=2 retains 64789 unique words (61% of original 106182, drops 41393)\n",
      "2018-06-24 21:56:30,717 - word2vec - INFO - min_count=2 leaves 4777341 word corpus (99% of original 4818734, drops 41393)\n",
      "2018-06-24 21:56:30,870 - word2vec - INFO - deleting the raw counts dictionary of 106182 items\n",
      "2018-06-24 21:56:30,872 - word2vec - INFO - sample=0.001 downsamples 17 most-common words\n",
      "2018-06-24 21:56:30,873 - word2vec - INFO - downsampling leaves estimated 4647026 word corpus (97.3% of prior 4777341)\n",
      "2018-06-24 21:56:30,875 - word2vec - INFO - estimated required memory for 64789 words and 200 dimensions: 182929900 bytes\n",
      "2018-06-24 21:56:31,060 - word2vec - INFO - resetting layer weights\n"
     ]
    },
    {
     "name": "stdout",
     "output_type": "stream",
     "text": [
      "Doc2Vec(dbow,d200,n5,mc2,s0.001,t4)\n"
     ]
    }
   ],
   "source": [
    "cores = multiprocessing.cpu_count()\n",
    "\n",
    "# PV-DBOW \n",
    "model = gensim.models.doc2vec.Doc2Vec(dm=0, size=200, min_count=2, iter=55, workers=cores)\n",
    "model.build_vocab(documents.to_array())\n",
    "print(str(model))"
   ]
  },
  {
   "cell_type": "markdown",
   "metadata": {},
   "source": [
    "Now we train Doc2Vec on the dataset corpus."
   ]
  },
  {
   "cell_type": "code",
   "execution_count": 698,
   "metadata": {
    "scrolled": true
   },
   "outputs": [
    {
     "name": "stderr",
     "output_type": "stream",
     "text": [
      "2018-06-24 21:56:34,652 - word2vec - INFO - training model with 4 workers on 64789 vocabulary and 200 features, using sg=1 hs=0 sample=0.001 negative=5 window=5\n",
      "2018-06-24 21:56:35,658 - word2vec - INFO - PROGRESS: at 0.43% examples, 856555 words/s, in_qsize 7, out_qsize 0\n",
      "2018-06-24 21:56:36,662 - word2vec - INFO - PROGRESS: at 0.75% examples, 897319 words/s, in_qsize 7, out_qsize 0\n",
      "2018-06-24 21:56:37,662 - word2vec - INFO - PROGRESS: at 1.24% examples, 979367 words/s, in_qsize 7, out_qsize 0\n",
      "2018-06-24 21:56:38,662 - word2vec - INFO - PROGRESS: at 1.62% examples, 1059579 words/s, in_qsize 7, out_qsize 0\n",
      "2018-06-24 21:56:39,667 - word2vec - INFO - PROGRESS: at 2.17% examples, 1072562 words/s, in_qsize 7, out_qsize 0\n",
      "2018-06-24 21:56:40,671 - word2vec - INFO - PROGRESS: at 2.63% examples, 1101008 words/s, in_qsize 7, out_qsize 0\n",
      "2018-06-24 21:56:41,679 - word2vec - INFO - PROGRESS: at 3.10% examples, 1116433 words/s, in_qsize 7, out_qsize 0\n",
      "2018-06-24 21:56:42,690 - word2vec - INFO - PROGRESS: at 3.52% examples, 1134226 words/s, in_qsize 7, out_qsize 0\n",
      "2018-06-24 21:56:43,695 - word2vec - INFO - PROGRESS: at 4.07% examples, 1130856 words/s, in_qsize 7, out_qsize 0\n",
      "2018-06-24 21:56:44,699 - word2vec - INFO - PROGRESS: at 4.51% examples, 1144205 words/s, in_qsize 7, out_qsize 0\n",
      "2018-06-24 21:56:45,710 - word2vec - INFO - PROGRESS: at 4.95% examples, 1142565 words/s, in_qsize 7, out_qsize 0\n",
      "2018-06-24 21:56:46,710 - word2vec - INFO - PROGRESS: at 5.38% examples, 1151094 words/s, in_qsize 7, out_qsize 0\n",
      "2018-06-24 21:56:47,720 - word2vec - INFO - PROGRESS: at 5.93% examples, 1148034 words/s, in_qsize 7, out_qsize 0\n",
      "2018-06-24 21:56:48,722 - word2vec - INFO - PROGRESS: at 6.36% examples, 1156498 words/s, in_qsize 7, out_qsize 0\n",
      "2018-06-24 21:56:49,725 - word2vec - INFO - PROGRESS: at 6.83% examples, 1159215 words/s, in_qsize 7, out_qsize 0\n",
      "2018-06-24 21:56:50,725 - word2vec - INFO - PROGRESS: at 7.26% examples, 1163511 words/s, in_qsize 7, out_qsize 0\n",
      "2018-06-24 21:56:51,728 - word2vec - INFO - PROGRESS: at 7.83% examples, 1162748 words/s, in_qsize 7, out_qsize 0\n",
      "2018-06-24 21:56:52,750 - word2vec - INFO - PROGRESS: at 8.27% examples, 1166667 words/s, in_qsize 8, out_qsize 0\n",
      "2018-06-24 21:56:53,762 - word2vec - INFO - PROGRESS: at 8.71% examples, 1171767 words/s, in_qsize 7, out_qsize 0\n",
      "2018-06-24 21:56:54,777 - word2vec - INFO - PROGRESS: at 9.17% examples, 1168934 words/s, in_qsize 7, out_qsize 0\n",
      "2018-06-24 21:56:55,784 - word2vec - INFO - PROGRESS: at 9.71% examples, 1168573 words/s, in_qsize 7, out_qsize 0\n",
      "2018-06-24 21:56:56,799 - word2vec - INFO - PROGRESS: at 10.07% examples, 1162783 words/s, in_qsize 8, out_qsize 1\n",
      "2018-06-24 21:56:57,807 - word2vec - INFO - PROGRESS: at 10.51% examples, 1165088 words/s, in_qsize 7, out_qsize 0\n",
      "2018-06-24 21:56:58,808 - word2vec - INFO - PROGRESS: at 10.97% examples, 1166243 words/s, in_qsize 7, out_qsize 0\n",
      "2018-06-24 21:56:59,810 - word2vec - INFO - PROGRESS: at 11.51% examples, 1165199 words/s, in_qsize 7, out_qsize 0\n",
      "2018-06-24 21:57:00,815 - word2vec - INFO - PROGRESS: at 11.94% examples, 1166774 words/s, in_qsize 7, out_qsize 0\n",
      "2018-06-24 21:57:01,825 - word2vec - INFO - PROGRESS: at 12.36% examples, 1169704 words/s, in_qsize 7, out_qsize 0\n",
      "2018-06-24 21:57:02,826 - word2vec - INFO - PROGRESS: at 12.82% examples, 1168056 words/s, in_qsize 8, out_qsize 0\n",
      "2018-06-24 21:57:03,832 - word2vec - INFO - PROGRESS: at 13.35% examples, 1166842 words/s, in_qsize 7, out_qsize 0\n",
      "2018-06-24 21:57:04,839 - word2vec - INFO - PROGRESS: at 13.78% examples, 1167946 words/s, in_qsize 7, out_qsize 0\n",
      "2018-06-24 21:57:05,855 - word2vec - INFO - PROGRESS: at 14.19% examples, 1169714 words/s, in_qsize 7, out_qsize 0\n",
      "2018-06-24 21:57:06,875 - word2vec - INFO - PROGRESS: at 14.66% examples, 1168045 words/s, in_qsize 7, out_qsize 0\n",
      "2018-06-24 21:57:07,876 - word2vec - INFO - PROGRESS: at 15.18% examples, 1167001 words/s, in_qsize 7, out_qsize 0\n",
      "2018-06-24 21:57:08,887 - word2vec - INFO - PROGRESS: at 15.62% examples, 1167558 words/s, in_qsize 7, out_qsize 0\n",
      "2018-06-24 21:57:09,889 - word2vec - INFO - PROGRESS: at 16.00% examples, 1167712 words/s, in_qsize 7, out_qsize 0\n",
      "2018-06-24 21:57:10,916 - word2vec - INFO - PROGRESS: at 16.48% examples, 1166855 words/s, in_qsize 8, out_qsize 0\n",
      "2018-06-24 21:57:11,918 - word2vec - INFO - PROGRESS: at 17.00% examples, 1166202 words/s, in_qsize 7, out_qsize 0\n",
      "2018-06-24 21:57:12,928 - word2vec - INFO - PROGRESS: at 17.43% examples, 1166508 words/s, in_qsize 7, out_qsize 0\n",
      "2018-06-24 21:57:13,928 - word2vec - INFO - PROGRESS: at 17.84% examples, 1168628 words/s, in_qsize 7, out_qsize 0\n",
      "2018-06-24 21:57:14,930 - word2vec - INFO - PROGRESS: at 18.32% examples, 1167689 words/s, in_qsize 7, out_qsize 0\n",
      "2018-06-24 21:57:15,940 - word2vec - INFO - PROGRESS: at 18.83% examples, 1167282 words/s, in_qsize 7, out_qsize 0\n",
      "2018-06-24 21:57:16,946 - word2vec - INFO - PROGRESS: at 19.27% examples, 1166966 words/s, in_qsize 7, out_qsize 0\n",
      "2018-06-24 21:57:17,949 - word2vec - INFO - PROGRESS: at 19.66% examples, 1168564 words/s, in_qsize 7, out_qsize 0\n",
      "2018-06-24 21:57:18,962 - word2vec - INFO - PROGRESS: at 20.14% examples, 1166973 words/s, in_qsize 7, out_qsize 0\n",
      "2018-06-24 21:57:19,969 - word2vec - INFO - PROGRESS: at 20.65% examples, 1166717 words/s, in_qsize 8, out_qsize 0\n",
      "2018-06-24 21:57:20,984 - word2vec - INFO - PROGRESS: at 21.09% examples, 1166204 words/s, in_qsize 7, out_qsize 0\n",
      "2018-06-24 21:57:21,985 - word2vec - INFO - PROGRESS: at 21.49% examples, 1168133 words/s, in_qsize 7, out_qsize 0\n",
      "2018-06-24 21:57:23,009 - word2vec - INFO - PROGRESS: at 21.98% examples, 1166835 words/s, in_qsize 8, out_qsize 1\n",
      "2018-06-24 21:57:24,015 - word2vec - INFO - PROGRESS: at 22.47% examples, 1166410 words/s, in_qsize 7, out_qsize 0\n",
      "2018-06-24 21:57:25,019 - word2vec - INFO - PROGRESS: at 22.92% examples, 1166936 words/s, in_qsize 7, out_qsize 0\n",
      "2018-06-24 21:57:26,027 - word2vec - INFO - PROGRESS: at 23.33% examples, 1168351 words/s, in_qsize 7, out_qsize 0\n",
      "2018-06-24 21:57:27,031 - word2vec - INFO - PROGRESS: at 23.82% examples, 1167443 words/s, in_qsize 7, out_qsize 0\n",
      "2018-06-24 21:57:28,031 - word2vec - INFO - PROGRESS: at 24.29% examples, 1166446 words/s, in_qsize 7, out_qsize 0\n",
      "2018-06-24 21:57:29,038 - word2vec - INFO - PROGRESS: at 24.73% examples, 1166170 words/s, in_qsize 7, out_qsize 0\n",
      "2018-06-24 21:57:30,041 - word2vec - INFO - PROGRESS: at 25.12% examples, 1167100 words/s, in_qsize 7, out_qsize 0\n",
      "2018-06-24 21:57:31,042 - word2vec - INFO - PROGRESS: at 25.61% examples, 1166466 words/s, in_qsize 7, out_qsize 0\n",
      "2018-06-24 21:57:32,043 - word2vec - INFO - PROGRESS: at 26.11% examples, 1166073 words/s, in_qsize 7, out_qsize 0\n",
      "2018-06-24 21:57:33,043 - word2vec - INFO - PROGRESS: at 26.55% examples, 1166451 words/s, in_qsize 7, out_qsize 0\n",
      "2018-06-24 21:57:34,045 - word2vec - INFO - PROGRESS: at 26.96% examples, 1167950 words/s, in_qsize 7, out_qsize 0\n",
      "2018-06-24 21:57:35,050 - word2vec - INFO - PROGRESS: at 27.45% examples, 1167137 words/s, in_qsize 7, out_qsize 0\n",
      "2018-06-24 21:57:36,052 - word2vec - INFO - PROGRESS: at 27.94% examples, 1167472 words/s, in_qsize 7, out_qsize 0\n",
      "2018-06-24 21:57:37,052 - word2vec - INFO - PROGRESS: at 28.35% examples, 1165545 words/s, in_qsize 7, out_qsize 0\n",
      "2018-06-24 21:57:38,056 - word2vec - INFO - PROGRESS: at 28.71% examples, 1164578 words/s, in_qsize 7, out_qsize 0\n",
      "2018-06-24 21:57:39,060 - word2vec - INFO - PROGRESS: at 29.00% examples, 1159204 words/s, in_qsize 7, out_qsize 0\n",
      "2018-06-24 21:57:40,062 - word2vec - INFO - PROGRESS: at 29.54% examples, 1157979 words/s, in_qsize 7, out_qsize 0\n",
      "2018-06-24 21:57:41,066 - word2vec - INFO - PROGRESS: at 29.96% examples, 1159145 words/s, in_qsize 7, out_qsize 0\n",
      "2018-06-24 21:57:42,067 - word2vec - INFO - PROGRESS: at 30.42% examples, 1159538 words/s, in_qsize 6, out_qsize 1\n",
      "2018-06-24 21:57:43,070 - word2vec - INFO - PROGRESS: at 30.84% examples, 1160327 words/s, in_qsize 7, out_qsize 0\n",
      "2018-06-24 21:57:44,072 - word2vec - INFO - PROGRESS: at 31.39% examples, 1159462 words/s, in_qsize 7, out_qsize 0\n",
      "2018-06-24 21:57:45,074 - word2vec - INFO - PROGRESS: at 31.80% examples, 1160434 words/s, in_qsize 7, out_qsize 0\n",
      "2018-06-24 21:57:46,083 - word2vec - INFO - PROGRESS: at 32.27% examples, 1160610 words/s, in_qsize 7, out_qsize 0\n"
     ]
    },
    {
     "name": "stderr",
     "output_type": "stream",
     "text": [
      "2018-06-24 21:57:47,085 - word2vec - INFO - PROGRESS: at 32.66% examples, 1160569 words/s, in_qsize 7, out_qsize 0\n",
      "2018-06-24 21:57:48,093 - word2vec - INFO - PROGRESS: at 33.21% examples, 1159791 words/s, in_qsize 7, out_qsize 0\n",
      "2018-06-24 21:57:49,094 - word2vec - INFO - PROGRESS: at 33.62% examples, 1160466 words/s, in_qsize 7, out_qsize 0\n",
      "2018-06-24 21:57:50,107 - word2vec - INFO - PROGRESS: at 34.08% examples, 1160698 words/s, in_qsize 7, out_qsize 0\n",
      "2018-06-24 21:57:51,109 - word2vec - INFO - PROGRESS: at 34.50% examples, 1161540 words/s, in_qsize 7, out_qsize 0\n",
      "2018-06-24 21:57:52,118 - word2vec - INFO - PROGRESS: at 35.06% examples, 1160668 words/s, in_qsize 7, out_qsize 0\n",
      "2018-06-24 21:57:53,125 - word2vec - INFO - PROGRESS: at 35.48% examples, 1161702 words/s, in_qsize 7, out_qsize 0\n",
      "2018-06-24 21:57:54,131 - word2vec - INFO - PROGRESS: at 35.93% examples, 1161964 words/s, in_qsize 7, out_qsize 0\n",
      "2018-06-24 21:57:55,138 - word2vec - INFO - PROGRESS: at 36.33% examples, 1161747 words/s, in_qsize 7, out_qsize 0\n",
      "2018-06-24 21:57:56,142 - word2vec - INFO - PROGRESS: at 36.88% examples, 1160743 words/s, in_qsize 7, out_qsize 0\n",
      "2018-06-24 21:57:57,145 - word2vec - INFO - PROGRESS: at 37.30% examples, 1161779 words/s, in_qsize 7, out_qsize 0\n",
      "2018-06-24 21:57:58,145 - word2vec - INFO - PROGRESS: at 37.76% examples, 1162346 words/s, in_qsize 7, out_qsize 0\n",
      "2018-06-24 21:57:59,149 - word2vec - INFO - PROGRESS: at 38.15% examples, 1162066 words/s, in_qsize 7, out_qsize 0\n",
      "2018-06-24 21:58:00,159 - word2vec - INFO - PROGRESS: at 38.71% examples, 1161246 words/s, in_qsize 7, out_qsize 0\n",
      "2018-06-24 21:58:01,166 - word2vec - INFO - PROGRESS: at 39.13% examples, 1162185 words/s, in_qsize 7, out_qsize 0\n",
      "2018-06-24 21:58:02,168 - word2vec - INFO - PROGRESS: at 39.59% examples, 1162786 words/s, in_qsize 7, out_qsize 0\n",
      "2018-06-24 21:58:03,173 - word2vec - INFO - PROGRESS: at 40.03% examples, 1163058 words/s, in_qsize 8, out_qsize 0\n",
      "2018-06-24 21:58:04,173 - word2vec - INFO - PROGRESS: at 40.57% examples, 1162409 words/s, in_qsize 7, out_qsize 0\n",
      "2018-06-24 21:58:05,183 - word2vec - INFO - PROGRESS: at 41.00% examples, 1163128 words/s, in_qsize 7, out_qsize 0\n",
      "2018-06-24 21:58:06,192 - word2vec - INFO - PROGRESS: at 41.41% examples, 1162872 words/s, in_qsize 7, out_qsize 0\n",
      "2018-06-24 21:58:07,197 - word2vec - INFO - PROGRESS: at 41.84% examples, 1162913 words/s, in_qsize 7, out_qsize 0\n",
      "2018-06-24 21:58:08,206 - word2vec - INFO - PROGRESS: at 42.39% examples, 1162290 words/s, in_qsize 7, out_qsize 0\n",
      "2018-06-24 21:58:09,218 - word2vec - INFO - PROGRESS: at 42.82% examples, 1162961 words/s, in_qsize 7, out_qsize 0\n",
      "2018-06-24 21:58:10,223 - word2vec - INFO - PROGRESS: at 43.25% examples, 1163901 words/s, in_qsize 7, out_qsize 0\n",
      "2018-06-24 21:58:11,229 - word2vec - INFO - PROGRESS: at 43.72% examples, 1163805 words/s, in_qsize 7, out_qsize 0\n",
      "2018-06-24 21:58:12,229 - word2vec - INFO - PROGRESS: at 44.25% examples, 1163372 words/s, in_qsize 7, out_qsize 0\n",
      "2018-06-24 21:58:13,230 - word2vec - INFO - PROGRESS: at 44.68% examples, 1164004 words/s, in_qsize 7, out_qsize 0\n",
      "2018-06-24 21:58:14,237 - word2vec - INFO - PROGRESS: at 45.08% examples, 1164325 words/s, in_qsize 8, out_qsize 0\n",
      "2018-06-24 21:58:15,244 - word2vec - INFO - PROGRESS: at 45.56% examples, 1164270 words/s, in_qsize 7, out_qsize 0\n",
      "2018-06-24 21:58:16,245 - word2vec - INFO - PROGRESS: at 46.08% examples, 1163986 words/s, in_qsize 7, out_qsize 0\n",
      "2018-06-24 21:58:17,245 - word2vec - INFO - PROGRESS: at 46.52% examples, 1164414 words/s, in_qsize 7, out_qsize 0\n",
      "2018-06-24 21:58:18,253 - word2vec - INFO - PROGRESS: at 46.93% examples, 1165335 words/s, in_qsize 7, out_qsize 0\n",
      "2018-06-24 21:58:19,255 - word2vec - INFO - PROGRESS: at 47.42% examples, 1165183 words/s, in_qsize 7, out_qsize 0\n",
      "2018-06-24 21:58:20,258 - word2vec - INFO - PROGRESS: at 47.92% examples, 1165038 words/s, in_qsize 7, out_qsize 0\n",
      "2018-06-24 21:58:21,261 - word2vec - INFO - PROGRESS: at 48.37% examples, 1165485 words/s, in_qsize 7, out_qsize 0\n",
      "2018-06-24 21:58:22,268 - word2vec - INFO - PROGRESS: at 48.78% examples, 1166283 words/s, in_qsize 7, out_qsize 0\n",
      "2018-06-24 21:58:23,269 - word2vec - INFO - PROGRESS: at 49.28% examples, 1165989 words/s, in_qsize 7, out_qsize 0\n",
      "2018-06-24 21:58:24,273 - word2vec - INFO - PROGRESS: at 49.76% examples, 1165971 words/s, in_qsize 7, out_qsize 0\n",
      "2018-06-24 21:58:25,276 - word2vec - INFO - PROGRESS: at 50.22% examples, 1166160 words/s, in_qsize 7, out_qsize 0\n",
      "2018-06-24 21:58:26,283 - word2vec - INFO - PROGRESS: at 50.63% examples, 1166905 words/s, in_qsize 7, out_qsize 0\n",
      "2018-06-24 21:58:27,288 - word2vec - INFO - PROGRESS: at 51.13% examples, 1166630 words/s, in_qsize 7, out_qsize 0\n",
      "2018-06-24 21:58:28,292 - word2vec - INFO - PROGRESS: at 51.60% examples, 1166827 words/s, in_qsize 7, out_qsize 0\n",
      "2018-06-24 21:58:29,296 - word2vec - INFO - PROGRESS: at 52.07% examples, 1166815 words/s, in_qsize 7, out_qsize 0\n",
      "2018-06-24 21:58:30,310 - word2vec - INFO - PROGRESS: at 52.48% examples, 1167698 words/s, in_qsize 7, out_qsize 0\n",
      "2018-06-24 21:58:31,312 - word2vec - INFO - PROGRESS: at 53.00% examples, 1167403 words/s, in_qsize 7, out_qsize 0\n",
      "2018-06-24 21:58:32,330 - word2vec - INFO - PROGRESS: at 53.46% examples, 1167739 words/s, in_qsize 7, out_qsize 0\n",
      "2018-06-24 21:58:33,331 - word2vec - INFO - PROGRESS: at 53.95% examples, 1167538 words/s, in_qsize 8, out_qsize 0\n",
      "2018-06-24 21:58:34,352 - word2vec - INFO - PROGRESS: at 54.34% examples, 1168599 words/s, in_qsize 7, out_qsize 0\n",
      "2018-06-24 21:58:35,359 - word2vec - INFO - PROGRESS: at 54.89% examples, 1168041 words/s, in_qsize 7, out_qsize 0\n",
      "2018-06-24 21:58:36,365 - word2vec - INFO - PROGRESS: at 55.33% examples, 1168416 words/s, in_qsize 7, out_qsize 0\n",
      "2018-06-24 21:58:37,372 - word2vec - INFO - PROGRESS: at 55.81% examples, 1168423 words/s, in_qsize 7, out_qsize 0\n",
      "2018-06-24 21:58:38,384 - word2vec - INFO - PROGRESS: at 56.20% examples, 1169094 words/s, in_qsize 7, out_qsize 0\n",
      "2018-06-24 21:58:39,390 - word2vec - INFO - PROGRESS: at 56.75% examples, 1168347 words/s, in_qsize 7, out_qsize 0\n",
      "2018-06-24 21:58:40,394 - word2vec - INFO - PROGRESS: at 57.18% examples, 1168780 words/s, in_qsize 7, out_qsize 0\n",
      "2018-06-24 21:58:41,398 - word2vec - INFO - PROGRESS: at 57.65% examples, 1168908 words/s, in_qsize 7, out_qsize 0\n",
      "2018-06-24 21:58:42,399 - word2vec - INFO - PROGRESS: at 58.06% examples, 1169630 words/s, in_qsize 7, out_qsize 0\n",
      "2018-06-24 21:58:43,407 - word2vec - INFO - PROGRESS: at 58.61% examples, 1168885 words/s, in_qsize 7, out_qsize 0\n",
      "2018-06-24 21:58:44,412 - word2vec - INFO - PROGRESS: at 59.03% examples, 1169453 words/s, in_qsize 7, out_qsize 0\n",
      "2018-06-24 21:58:45,413 - word2vec - INFO - PROGRESS: at 59.49% examples, 1169432 words/s, in_qsize 7, out_qsize 0\n",
      "2018-06-24 21:58:46,426 - word2vec - INFO - PROGRESS: at 59.89% examples, 1169662 words/s, in_qsize 7, out_qsize 0\n",
      "2018-06-24 21:58:47,431 - word2vec - INFO - PROGRESS: at 60.45% examples, 1169181 words/s, in_qsize 7, out_qsize 0\n",
      "2018-06-24 21:58:48,433 - word2vec - INFO - PROGRESS: at 60.87% examples, 1169613 words/s, in_qsize 7, out_qsize 0\n",
      "2018-06-24 21:58:49,435 - word2vec - INFO - PROGRESS: at 61.32% examples, 1169721 words/s, in_qsize 7, out_qsize 0\n",
      "2018-06-24 21:58:50,439 - word2vec - INFO - PROGRESS: at 61.74% examples, 1169968 words/s, in_qsize 7, out_qsize 0\n",
      "2018-06-24 21:58:51,451 - word2vec - INFO - PROGRESS: at 62.29% examples, 1169440 words/s, in_qsize 7, out_qsize 0\n",
      "2018-06-24 21:58:52,455 - word2vec - INFO - PROGRESS: at 62.71% examples, 1170063 words/s, in_qsize 7, out_qsize 0\n",
      "2018-06-24 21:58:53,459 - word2vec - INFO - PROGRESS: at 63.18% examples, 1170126 words/s, in_qsize 7, out_qsize 0\n",
      "2018-06-24 21:58:54,460 - word2vec - INFO - PROGRESS: at 63.60% examples, 1170534 words/s, in_qsize 7, out_qsize 0\n",
      "2018-06-24 21:58:55,464 - word2vec - INFO - PROGRESS: at 64.16% examples, 1170022 words/s, in_qsize 7, out_qsize 0\n",
      "2018-06-24 21:58:56,472 - word2vec - INFO - PROGRESS: at 64.58% examples, 1170591 words/s, in_qsize 7, out_qsize 0\n",
      "2018-06-24 21:58:57,475 - word2vec - INFO - PROGRESS: at 65.04% examples, 1170900 words/s, in_qsize 7, out_qsize 0\n",
      "2018-06-24 21:58:58,477 - word2vec - INFO - PROGRESS: at 65.48% examples, 1171022 words/s, in_qsize 7, out_qsize 0\n"
     ]
    },
    {
     "name": "stderr",
     "output_type": "stream",
     "text": [
      "2018-06-24 21:58:59,480 - word2vec - INFO - PROGRESS: at 66.02% examples, 1170613 words/s, in_qsize 7, out_qsize 0\n",
      "2018-06-24 21:59:00,497 - word2vec - INFO - PROGRESS: at 66.45% examples, 1170955 words/s, in_qsize 7, out_qsize 0\n",
      "2018-06-24 21:59:01,499 - word2vec - INFO - PROGRESS: at 66.89% examples, 1171539 words/s, in_qsize 7, out_qsize 0\n",
      "2018-06-24 21:59:02,506 - word2vec - INFO - PROGRESS: at 67.36% examples, 1171417 words/s, in_qsize 8, out_qsize 0\n",
      "2018-06-24 21:59:03,507 - word2vec - INFO - PROGRESS: at 67.88% examples, 1171076 words/s, in_qsize 8, out_qsize 0\n",
      "2018-06-24 21:59:04,516 - word2vec - INFO - PROGRESS: at 68.32% examples, 1171437 words/s, in_qsize 7, out_qsize 0\n",
      "2018-06-24 21:59:05,520 - word2vec - INFO - PROGRESS: at 68.74% examples, 1172126 words/s, in_qsize 7, out_qsize 0\n",
      "2018-06-24 21:59:06,534 - word2vec - INFO - PROGRESS: at 69.23% examples, 1171879 words/s, in_qsize 6, out_qsize 1\n",
      "2018-06-24 21:59:07,540 - word2vec - INFO - PROGRESS: at 69.74% examples, 1171836 words/s, in_qsize 7, out_qsize 0\n",
      "2018-06-24 21:59:08,541 - word2vec - INFO - PROGRESS: at 70.19% examples, 1172120 words/s, in_qsize 7, out_qsize 0\n",
      "2018-06-24 21:59:09,547 - word2vec - INFO - PROGRESS: at 70.60% examples, 1172639 words/s, in_qsize 7, out_qsize 0\n",
      "2018-06-24 21:59:10,563 - word2vec - INFO - PROGRESS: at 71.11% examples, 1172327 words/s, in_qsize 7, out_qsize 0\n",
      "2018-06-24 21:59:11,564 - word2vec - INFO - PROGRESS: at 71.59% examples, 1172492 words/s, in_qsize 7, out_qsize 0\n",
      "2018-06-24 21:59:12,581 - word2vec - INFO - PROGRESS: at 72.06% examples, 1172534 words/s, in_qsize 7, out_qsize 0\n",
      "2018-06-24 21:59:13,589 - word2vec - INFO - PROGRESS: at 72.45% examples, 1172830 words/s, in_qsize 7, out_qsize 0\n",
      "2018-06-24 21:59:14,602 - word2vec - INFO - PROGRESS: at 72.95% examples, 1172423 words/s, in_qsize 7, out_qsize 0\n",
      "2018-06-24 21:59:15,609 - word2vec - INFO - PROGRESS: at 73.42% examples, 1172564 words/s, in_qsize 8, out_qsize 0\n",
      "2018-06-24 21:59:16,611 - word2vec - INFO - PROGRESS: at 73.89% examples, 1172476 words/s, in_qsize 7, out_qsize 0\n",
      "2018-06-24 21:59:17,613 - word2vec - INFO - PROGRESS: at 74.30% examples, 1173153 words/s, in_qsize 7, out_qsize 0\n",
      "2018-06-24 21:59:18,615 - word2vec - INFO - PROGRESS: at 74.82% examples, 1172908 words/s, in_qsize 7, out_qsize 0\n",
      "2018-06-24 21:59:19,635 - word2vec - INFO - PROGRESS: at 75.28% examples, 1173098 words/s, in_qsize 7, out_qsize 0\n",
      "2018-06-24 21:59:20,639 - word2vec - INFO - PROGRESS: at 75.78% examples, 1172961 words/s, in_qsize 7, out_qsize 0\n",
      "2018-06-24 21:59:21,647 - word2vec - INFO - PROGRESS: at 76.16% examples, 1173726 words/s, in_qsize 7, out_qsize 0\n",
      "2018-06-24 21:59:22,651 - word2vec - INFO - PROGRESS: at 76.71% examples, 1173316 words/s, in_qsize 7, out_qsize 0\n",
      "2018-06-24 21:59:23,652 - word2vec - INFO - PROGRESS: at 77.15% examples, 1173582 words/s, in_qsize 7, out_qsize 0\n",
      "2018-06-24 21:59:24,660 - word2vec - INFO - PROGRESS: at 77.63% examples, 1173550 words/s, in_qsize 7, out_qsize 0\n",
      "2018-06-24 21:59:25,664 - word2vec - INFO - PROGRESS: at 78.03% examples, 1174173 words/s, in_qsize 7, out_qsize 0\n",
      "2018-06-24 21:59:26,664 - word2vec - INFO - PROGRESS: at 78.58% examples, 1173697 words/s, in_qsize 7, out_qsize 0\n",
      "2018-06-24 21:59:27,672 - word2vec - INFO - PROGRESS: at 79.02% examples, 1174066 words/s, in_qsize 7, out_qsize 0\n",
      "2018-06-24 21:59:28,684 - word2vec - INFO - PROGRESS: at 79.48% examples, 1174233 words/s, in_qsize 7, out_qsize 0\n",
      "2018-06-24 21:59:29,691 - word2vec - INFO - PROGRESS: at 79.90% examples, 1174530 words/s, in_qsize 7, out_qsize 0\n",
      "2018-06-24 21:59:30,694 - word2vec - INFO - PROGRESS: at 80.45% examples, 1174099 words/s, in_qsize 7, out_qsize 0\n",
      "2018-06-24 21:59:31,699 - word2vec - INFO - PROGRESS: at 80.87% examples, 1174377 words/s, in_qsize 7, out_qsize 0\n",
      "2018-06-24 21:59:32,717 - word2vec - INFO - PROGRESS: at 81.32% examples, 1174326 words/s, in_qsize 7, out_qsize 0\n",
      "2018-06-24 21:59:33,722 - word2vec - INFO - PROGRESS: at 81.75% examples, 1174640 words/s, in_qsize 7, out_qsize 0\n",
      "2018-06-24 21:59:34,739 - word2vec - INFO - PROGRESS: at 82.31% examples, 1174238 words/s, in_qsize 7, out_qsize 0\n",
      "2018-06-24 21:59:35,743 - word2vec - INFO - PROGRESS: at 82.74% examples, 1174734 words/s, in_qsize 7, out_qsize 0\n",
      "2018-06-24 21:59:36,745 - word2vec - INFO - PROGRESS: at 83.17% examples, 1174396 words/s, in_qsize 7, out_qsize 0\n",
      "2018-06-24 21:59:37,757 - word2vec - INFO - PROGRESS: at 83.59% examples, 1174662 words/s, in_qsize 8, out_qsize 0\n",
      "2018-06-24 21:59:38,758 - word2vec - INFO - PROGRESS: at 84.13% examples, 1174059 words/s, in_qsize 7, out_qsize 0\n",
      "2018-06-24 21:59:39,770 - word2vec - INFO - PROGRESS: at 84.56% examples, 1174497 words/s, in_qsize 7, out_qsize 0\n",
      "2018-06-24 21:59:40,778 - word2vec - INFO - PROGRESS: at 85.03% examples, 1174634 words/s, in_qsize 6, out_qsize 1\n",
      "2018-06-24 21:59:41,780 - word2vec - INFO - PROGRESS: at 85.46% examples, 1174765 words/s, in_qsize 7, out_qsize 0\n",
      "2018-06-24 21:59:42,784 - word2vec - INFO - PROGRESS: at 86.00% examples, 1174315 words/s, in_qsize 7, out_qsize 0\n",
      "2018-06-24 21:59:43,788 - word2vec - INFO - PROGRESS: at 86.42% examples, 1174688 words/s, in_qsize 7, out_qsize 0\n",
      "2018-06-24 21:59:44,795 - word2vec - INFO - PROGRESS: at 86.87% examples, 1174912 words/s, in_qsize 7, out_qsize 0\n",
      "2018-06-24 21:59:45,795 - word2vec - INFO - PROGRESS: at 87.33% examples, 1175012 words/s, in_qsize 7, out_qsize 0\n",
      "2018-06-24 21:59:46,805 - word2vec - INFO - PROGRESS: at 87.87% examples, 1174725 words/s, in_qsize 7, out_qsize 0\n",
      "2018-06-24 21:59:47,815 - word2vec - INFO - PROGRESS: at 88.31% examples, 1174968 words/s, in_qsize 7, out_qsize 0\n",
      "2018-06-24 21:59:48,820 - word2vec - INFO - PROGRESS: at 88.73% examples, 1175456 words/s, in_qsize 7, out_qsize 0\n",
      "2018-06-24 21:59:49,826 - word2vec - INFO - PROGRESS: at 89.21% examples, 1175331 words/s, in_qsize 8, out_qsize 0\n",
      "2018-06-24 21:59:50,834 - word2vec - INFO - PROGRESS: at 89.73% examples, 1175221 words/s, in_qsize 7, out_qsize 0\n",
      "2018-06-24 21:59:51,840 - word2vec - INFO - PROGRESS: at 90.18% examples, 1175453 words/s, in_qsize 7, out_qsize 0\n",
      "2018-06-24 21:59:52,842 - word2vec - INFO - PROGRESS: at 90.59% examples, 1175861 words/s, in_qsize 7, out_qsize 0\n",
      "2018-06-24 21:59:53,853 - word2vec - INFO - PROGRESS: at 91.08% examples, 1175633 words/s, in_qsize 8, out_qsize 0\n",
      "2018-06-24 21:59:54,854 - word2vec - INFO - PROGRESS: at 91.57% examples, 1175551 words/s, in_qsize 7, out_qsize 0\n",
      "2018-06-24 21:59:55,864 - word2vec - INFO - PROGRESS: at 92.03% examples, 1175614 words/s, in_qsize 7, out_qsize 0\n",
      "2018-06-24 21:59:56,867 - word2vec - INFO - PROGRESS: at 92.43% examples, 1175959 words/s, in_qsize 7, out_qsize 0\n",
      "2018-06-24 21:59:57,871 - word2vec - INFO - PROGRESS: at 92.94% examples, 1175812 words/s, in_qsize 7, out_qsize 0\n",
      "2018-06-24 21:59:58,878 - word2vec - INFO - PROGRESS: at 93.42% examples, 1175905 words/s, in_qsize 7, out_qsize 0\n",
      "2018-06-24 21:59:59,892 - word2vec - INFO - PROGRESS: at 93.89% examples, 1175888 words/s, in_qsize 7, out_qsize 0\n",
      "2018-06-24 22:00:00,893 - word2vec - INFO - PROGRESS: at 94.30% examples, 1176412 words/s, in_qsize 7, out_qsize 0\n",
      "2018-06-24 22:00:01,895 - word2vec - INFO - PROGRESS: at 94.81% examples, 1176156 words/s, in_qsize 7, out_qsize 0\n",
      "2018-06-24 22:00:02,896 - word2vec - INFO - PROGRESS: at 95.27% examples, 1176354 words/s, in_qsize 7, out_qsize 0\n",
      "2018-06-24 22:00:03,909 - word2vec - INFO - PROGRESS: at 95.76% examples, 1176177 words/s, in_qsize 7, out_qsize 0\n",
      "2018-06-24 22:00:04,918 - word2vec - INFO - PROGRESS: at 96.16% examples, 1176855 words/s, in_qsize 7, out_qsize 0\n",
      "2018-06-24 22:00:05,928 - word2vec - INFO - PROGRESS: at 96.71% examples, 1176477 words/s, in_qsize 7, out_qsize 0\n",
      "2018-06-24 22:00:06,931 - word2vec - INFO - PROGRESS: at 97.15% examples, 1176671 words/s, in_qsize 7, out_qsize 0\n",
      "2018-06-24 22:00:07,933 - word2vec - INFO - PROGRESS: at 97.63% examples, 1176660 words/s, in_qsize 7, out_qsize 0\n",
      "2018-06-24 22:00:08,938 - word2vec - INFO - PROGRESS: at 98.03% examples, 1177136 words/s, in_qsize 7, out_qsize 0\n",
      "2018-06-24 22:00:09,943 - word2vec - INFO - PROGRESS: at 98.58% examples, 1176758 words/s, in_qsize 7, out_qsize 0\n",
      "2018-06-24 22:00:10,945 - word2vec - INFO - PROGRESS: at 99.02% examples, 1177032 words/s, in_qsize 7, out_qsize 0\n"
     ]
    },
    {
     "name": "stderr",
     "output_type": "stream",
     "text": [
      "2018-06-24 22:00:11,958 - word2vec - INFO - PROGRESS: at 99.48% examples, 1177144 words/s, in_qsize 7, out_qsize 0\n",
      "2018-06-24 22:00:12,964 - word2vec - INFO - PROGRESS: at 99.88% examples, 1177199 words/s, in_qsize 7, out_qsize 0\n",
      "2018-06-24 22:00:13,162 - word2vec - INFO - worker thread finished; awaiting finish of 3 more threads\n",
      "2018-06-24 22:00:13,166 - word2vec - INFO - worker thread finished; awaiting finish of 2 more threads\n",
      "2018-06-24 22:00:13,181 - word2vec - INFO - worker thread finished; awaiting finish of 1 more threads\n",
      "2018-06-24 22:00:13,185 - word2vec - INFO - worker thread finished; awaiting finish of 0 more threads\n",
      "2018-06-24 22:00:13,186 - word2vec - INFO - training on 265030370 raw words (257226188 effective words) took 218.5s, 1177116 effective words/s\n"
     ]
    },
    {
     "name": "stdout",
     "output_type": "stream",
     "text": [
      "CPU times: user 9min, sys: 19.4 s, total: 9min 20s\n",
      "Wall time: 3min 39s\n"
     ]
    },
    {
     "data": {
      "text/plain": [
       "257226188"
      ]
     },
     "execution_count": 698,
     "metadata": {},
     "output_type": "execute_result"
    }
   ],
   "source": [
    "%time model.train(documents.to_array(), total_examples=model.corpus_count, epochs=model.iter)\n"
   ]
  },
  {
   "cell_type": "markdown",
   "metadata": {},
   "source": [
    "### Similarity interface\n",
    "\n",
    "We'll pick for a randomly chosen company, and compare its similar companies by eye."
   ]
  },
  {
   "cell_type": "code",
   "execution_count": 801,
   "metadata": {
    "scrolled": true
   },
   "outputs": [
    {
     "name": "stdout",
     "output_type": "stream",
     "text": [
      "Company (Abbotsford Security Services): « Abbotsford Security Services provides professionally-trained, uniformed security officers for financials institutions, corporate headquarters and office buildings, residential towers and developments, shopping centers, healthcare facilities, public and private events, and personal VIP Protection.»\n",
      "\n",
      "SIMILAR BUSINESSES PER MODEL Doc2Vec(dbow,d200,n5,mc2,s0.001,t4):\n",
      "\n",
      "('365 Patrol Ltd.', 0.5528758764266968): « 365 Patrol Ltd. provides Calgary security guards and security services to businesses, residences, and industry. We do construction site security, oilfield security services, private security, event security, and more.»\n",
      "\n",
      "('NPSS', 0.5408617258071899): « We provide uniformed security officer services - Port facility Security, Event Security, construction security, etc. Loss Prevention officers, Private Investigation, document service, vehicle patrol»\n",
      "\n",
      "('Groupe Conseil VCS', 0.5369068384170532): « doormans for bars.»\n",
      "\n",
      "('ISS Security Ltd', 0.5351086854934692): « We provide security guard and patrol services in Edmonton.»\n",
      "\n",
      "('1NWSS', 0.5315399765968323): « 1Northwest security is committed to offering professional static and mobile patrol security guards for a wide range of services including corporate sector, construction, event, and residential security. We also provide key holding and alarm response, as well as retail and industrial warehouse loss prevention solutions.»\n",
      "\n",
      "('Stinson Security Services Limited', 0.527328372001648): « Security and Investigations, Custodial Care Services»\n",
      "\n"
     ]
    }
   ],
   "source": [
    "r = randint(0,46872)\n",
    "c_ID = company_pd.iloc[r].comp_ID\n",
    "sims = model.docvecs.most_similar(positive=[c_ID], topn=6)\n",
    "print('Company ({}): «{}»\\n'.format(company_pd.iloc[r].comp_op_name, company_pd.iloc[r].comp_prof))\n",
    "print(u'SIMILAR BUSINESSES PER MODEL %s:\\n' % model)\n",
    "for index in range(len(sims)):\n",
    "    print(u'%s: «%s»\\n' % ((company_pd[company_pd.comp_ID ==\\\n",
    "                              sims[index][0]].comp_op_name.max(),sims[index][1]), \\\n",
    "                              company_pd[company_pd.comp_ID == sims[index][0]].comp_prof.max()))"
   ]
  },
  {
   "cell_type": "markdown",
   "metadata": {},
   "source": [
    "#### Save Model"
   ]
  },
  {
   "cell_type": "code",
   "execution_count": 789,
   "metadata": {},
   "outputs": [
    {
     "name": "stderr",
     "output_type": "stream",
     "text": [
      "2018-06-27 00:00:37,893 - utils - INFO - saving Doc2Vec object under models/pv_dbow_final.bz2, separately None\n",
      "2018-06-27 00:00:37,910 - utils - INFO - storing np array 'syn0' to models/pv_dbow_final.bz2.wv.syn0.npz\n",
      "2018-06-27 00:00:40,366 - utils - INFO - not storing attribute syn0norm\n",
      "2018-06-27 00:00:40,368 - utils - INFO - storing np array 'syn1neg' to models/pv_dbow_final.bz2.syn1neg.npz\n",
      "2018-06-27 00:00:42,688 - utils - INFO - not storing attribute cum_table\n",
      "2018-06-27 00:00:54,832 - utils - INFO - saved models/pv_dbow_final.bz2\n"
     ]
    }
   ],
   "source": [
    "model.save('models/pv_dbow_final')\n",
    "model.delete_temporary_training_data(keep_doctags_vectors=True, keep_inference=True)"
   ]
  }
 ],
 "metadata": {
  "kernelspec": {
   "display_name": "Python 3",
   "language": "python",
   "name": "python3"
  },
  "language_info": {
   "codemirror_mode": {
    "name": "ipython",
    "version": 3
   },
   "file_extension": ".py",
   "mimetype": "text/x-python",
   "name": "python",
   "nbconvert_exporter": "python",
   "pygments_lexer": "ipython3",
   "version": "3.6.5"
  }
 },
 "nbformat": 4,
 "nbformat_minor": 2
}
