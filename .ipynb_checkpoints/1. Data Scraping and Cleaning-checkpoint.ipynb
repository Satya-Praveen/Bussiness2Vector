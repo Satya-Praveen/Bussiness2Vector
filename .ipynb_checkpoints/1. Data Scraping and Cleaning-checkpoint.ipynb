{
 "cells": [
  {
   "cell_type": "markdown",
   "metadata": {},
   "source": [
    "# 1. Data Scraping & Cleaning"
   ]
  },
  {
   "cell_type": "markdown",
   "metadata": {},
   "source": [
    "##### *Libraries Used*"
   ]
  },
  {
   "cell_type": "code",
   "execution_count": 2,
   "metadata": {},
   "outputs": [],
   "source": [
    "%matplotlib inline\n",
    "from bs4 import BeautifulSoup #for HTML parsing\n",
    "from urllib.request import urlopen\n",
    "import re #Regular expressions\n",
    "from time import sleep #To prevent overwhelming the server between connections\n",
    "from collections import Counter #Keeps track of term counts\n",
    "from nltk.corpus import stopwords #Filters out stopwords, such as 'the', 'or', 'and'\n",
    "from lxml import html\n",
    "import requests\n",
    "import pandas as pd #for converting results to a dataframe \n",
    "from fnmatch import fnmatch\n",
    "import time\n",
    "from sqlite3 import dbapi2 as sq3\n",
    "import os\n",
    "import numpy as np\n"
   ]
  },
  {
   "cell_type": "markdown",
   "metadata": {},
   "source": [
    "#### Data Source"
   ]
  },
  {
   "cell_type": "markdown",
   "metadata": {},
   "source": [
    "To construct our database for analysis, public Firmographic Data was scraped from the Government of Canada Directories of Canadian companies website; a centrally maintained current searchable database of 60,000 Canadian businesses.\n",
    "Each business profile contains comprehensive information on contacts, products, services, trade experience, and technology. \n",
    "\n",
    "https://www.ic.gc.ca/eic/site/ccc-rec.nsf/eng/home\n"
   ]
  },
  {
   "cell_type": "markdown",
   "metadata": {},
   "source": [
    "### Part 1 Create Dataframe\n"
   ]
  },
  {
   "cell_type": "markdown",
   "metadata": {},
   "source": [
    "To get access to informations about each company, we make a 5-step subsequent query using beautifulsoup."
   ]
  },
  {
   "cell_type": "markdown",
   "metadata": {},
   "source": [
    "**step 1: gather industry classification url**"
   ]
  },
  {
   "cell_type": "markdown",
   "metadata": {},
   "source": [
    "Take 'NAICS sector 11 Agriculture, Forestry, Fishing and Hunting' as an example, its href attribute is '00035.html'its url is becomes 'https://www.ic.gc.ca/eic/site/ccc-rec.nsf/eng/00035.html' adding the href attribute of each row we are accessing. From here we create a list of all urls to their respective sectors.\n"
   ]
  },
  {
   "cell_type": "code",
   "execution_count": 5,
   "metadata": {},
   "outputs": [],
   "source": [
    "def is_match(l, pattern):\n",
    "    \"\"\"return True if a URL matches pattern\"\"\"    \n",
    "    return fnmatch(l, pattern)\n",
    "\n",
    "\n",
    "page = requests.get(\"https://www.ic.gc.ca/eic/site/ccc_bt-rec_ec.nsf/eng/h_00011.html\")\n",
    "soup = BeautifulSoup(page.content, 'lxml')\n",
    "ind_url = {title['title']:'http://www.ic.gc.ca/eic/site/ccc-rec.nsf/eng/'+title.get('href') for title in soup.findAll('a', {'title': True, 'href': True})}\n",
    "pattern = 'http://www.ic.gc.ca/eic/site/ccc-rec.nsf/eng/?????.html'\n",
    "ind_url = {items[0]:items[1] for items in ind_url.items() if is_match(items[1], pattern)}\n",
    "industry = pd.DataFrame(list(ind_url.items()), columns=['Industry', 'URL'])\n"
   ]
  },
  {
   "cell_type": "markdown",
   "metadata": {},
   "source": [
    "**step 2: collect each industry classification's sector url**"
   ]
  },
  {
   "cell_type": "markdown",
   "metadata": {},
   "source": [
    "From each of the url above we come to the sector of each industry classification. Here we collect the urls to each individual sectors.\n"
   ]
  },
  {
   "cell_type": "code",
   "execution_count": 446,
   "metadata": {
    "collapsed": true
   },
   "outputs": [],
   "source": [
    "sec_url ={}\n",
    "pattern = 'http://www.ic.gc.ca/app/ccc/sld/cmpny.do?lang=eng&profileId=1921&naics=?????'\n",
    "for i in industry.URL:\n",
    "    page = requests.get(i)\n",
    "    soup = BeautifulSoup(page.content, 'lxml')\n",
    "    for sec in soup.findAll('h1'):\n",
    "        sec_heading = sec.getText()\n",
    "  \n",
    "    for sec in soup.findAll('a', {'title': True, 'href': True}):       \n",
    "        sec_url[sec['title']] = [sec.getText(), sec_heading, sec.get('href')]           \n",
    "        \n",
    "    sec_url = {items[0]:items[1] for items in sec_url.items() if is_match(items[1][2], pattern)}\n",
    "sector = pd.DataFrame.from_dict(sec_url, orient='index').reset_index()\n",
    "sector.columns = ['sector','sector_code','industry', 'URL']\n"
   ]
  },
  {
   "cell_type": "code",
   "execution_count": 571,
   "metadata": {},
   "outputs": [
    {
     "data": {
      "text/html": [
       "<div>\n",
       "<table border=\"1\" class=\"dataframe\">\n",
       "  <thead>\n",
       "    <tr style=\"text-align: right;\">\n",
       "      <th></th>\n",
       "      <th>sector</th>\n",
       "      <th>sector_code</th>\n",
       "      <th>industry</th>\n",
       "      <th>URL</th>\n",
       "    </tr>\n",
       "  </thead>\n",
       "  <tbody>\n",
       "    <tr>\n",
       "      <th>0</th>\n",
       "      <td>Soybean Farming</td>\n",
       "      <td>11111</td>\n",
       "      <td>Agriculture, Forestry, Fishing and Hunting</td>\n",
       "      <td>http://www.ic.gc.ca/app/ccc/sld/cmpny.do?lang=...</td>\n",
       "    </tr>\n",
       "    <tr>\n",
       "      <th>1</th>\n",
       "      <td>Dry Pea and Bean Farming</td>\n",
       "      <td>11113</td>\n",
       "      <td>Agriculture, Forestry, Fishing and Hunting</td>\n",
       "      <td>http://www.ic.gc.ca/app/ccc/sld/cmpny.do?lang=...</td>\n",
       "    </tr>\n",
       "    <tr>\n",
       "      <th>2</th>\n",
       "      <td>Wheat Farming</td>\n",
       "      <td>11114</td>\n",
       "      <td>Agriculture, Forestry, Fishing and Hunting</td>\n",
       "      <td>http://www.ic.gc.ca/app/ccc/sld/cmpny.do?lang=...</td>\n",
       "    </tr>\n",
       "    <tr>\n",
       "      <th>3</th>\n",
       "      <td>Corn Farming</td>\n",
       "      <td>11115</td>\n",
       "      <td>Agriculture, Forestry, Fishing and Hunting</td>\n",
       "      <td>http://www.ic.gc.ca/app/ccc/sld/cmpny.do?lang=...</td>\n",
       "    </tr>\n",
       "    <tr>\n",
       "      <th>4</th>\n",
       "      <td>Other Grain Farming</td>\n",
       "      <td>11119</td>\n",
       "      <td>Agriculture, Forestry, Fishing and Hunting</td>\n",
       "      <td>http://www.ic.gc.ca/app/ccc/sld/cmpny.do?lang=...</td>\n",
       "    </tr>\n",
       "  </tbody>\n",
       "</table>\n",
       "</div>"
      ],
      "text/plain": [
       "                     sector sector_code  \\\n",
       "0           Soybean Farming       11111   \n",
       "1  Dry Pea and Bean Farming       11113   \n",
       "2             Wheat Farming       11114   \n",
       "3              Corn Farming       11115   \n",
       "4       Other Grain Farming       11119   \n",
       "\n",
       "                                     industry  \\\n",
       "0  Agriculture, Forestry, Fishing and Hunting   \n",
       "1  Agriculture, Forestry, Fishing and Hunting   \n",
       "2  Agriculture, Forestry, Fishing and Hunting   \n",
       "3  Agriculture, Forestry, Fishing and Hunting   \n",
       "4  Agriculture, Forestry, Fishing and Hunting   \n",
       "\n",
       "                                                 URL  \n",
       "0  http://www.ic.gc.ca/app/ccc/sld/cmpny.do?lang=...  \n",
       "1  http://www.ic.gc.ca/app/ccc/sld/cmpny.do?lang=...  \n",
       "2  http://www.ic.gc.ca/app/ccc/sld/cmpny.do?lang=...  \n",
       "3  http://www.ic.gc.ca/app/ccc/sld/cmpny.do?lang=...  \n",
       "4  http://www.ic.gc.ca/app/ccc/sld/cmpny.do?lang=...  "
      ]
     },
     "execution_count": 571,
     "metadata": {},
     "output_type": "execute_result"
    }
   ],
   "source": [
    "sector.head()"
   ]
  },
  {
   "cell_type": "markdown",
   "metadata": {},
   "source": [
    "**step 3: collect each company profile url**"
   ]
  },
  {
   "cell_type": "markdown",
   "metadata": {},
   "source": [
    "From each of the url above we come to all the companies in each sector. Here we collect the urls to each individual company profile.\n"
   ]
  },
  {
   "cell_type": "code",
   "execution_count": null,
   "metadata": {
    "collapsed": true
   },
   "outputs": [],
   "source": [
    "comp_urls ={}\n",
    "\n",
    "for i in sector.URL:\n",
    "    s = requests.Session()\n",
    "    page = s.get(i)\n",
    "    jsonid = s.cookies.items()[0][1]\n",
    "    soup = BeautifulSoup(page.content, 'lxml')\n",
    "    comp_url ={}\n",
    "\n",
    "   \n",
    "    for comp in soup.findAll('h1'):\n",
    "        comp_heading = comp.getText()\n",
    "   \n",
    "    for comp in soup.findAll('a', {'href': True}):\n",
    "        comp_url[comp.getText()] = [comp_heading, 'http://www.ic.gc.ca'+comp.get('href')]\n",
    "\n",
    "    pattern = 'http://www.ic.gc.ca/app/ccc/srch/nvgt.do;jsessionid='+str(jsonid)+'?lang=eng&prtl=1&sbPrtl=&estblmntNo=????????????&profile=cmpltPrfl&profileId=1921&app=sold&searchNav=F'\n",
    "    \n",
    "    comp_url = {items[0]:items[1] for items in comp_url.items() if is_match(items[1][1], pattern)} \n",
    "\n",
    "    if comp_url != {}:\n",
    "        for items in comp_url.items():\n",
    "            comp_urls[items[0]] = items[1] \n",
    "    \n",
    "        \n",
    "company = pd.DataFrame.from_dict(comp_urls, orient='index').reset_index()\n",
    "company.columns = ['company','sector','URL']\n",
    "company['comp_ID'] = company.index+1"
   ]
  },
  {
   "cell_type": "code",
   "execution_count": 601,
   "metadata": {},
   "outputs": [
    {
     "data": {
      "text/html": [
       "<div>\n",
       "<table border=\"1\" class=\"dataframe\">\n",
       "  <thead>\n",
       "    <tr style=\"text-align: right;\">\n",
       "      <th></th>\n",
       "      <th>company</th>\n",
       "      <th>sector</th>\n",
       "      <th>URL</th>\n",
       "    </tr>\n",
       "  </thead>\n",
       "  <tbody>\n",
       "    <tr>\n",
       "      <th>0</th>\n",
       "      <td>Agrideria</td>\n",
       "      <td>All Other Crop Farming (11199)</td>\n",
       "      <td>http://www.ic.gc.ca/app/ccc/srch/nvgt.do;jsess...</td>\n",
       "    </tr>\n",
       "    <tr>\n",
       "      <th>1</th>\n",
       "      <td>Everyones Test Company (Leave in Tank) Operating</td>\n",
       "      <td>Cutlery and Hand Tool Manufacturing (33221)</td>\n",
       "      <td>http://www.ic.gc.ca/app/ccc/srch/nvgt.do;jsess...</td>\n",
       "    </tr>\n",
       "    <tr>\n",
       "      <th>2</th>\n",
       "      <td>Thompsons Limited</td>\n",
       "      <td>Seed Wholesaler-Distributors (41832)</td>\n",
       "      <td>http://www.ic.gc.ca/app/ccc/srch/nvgt.do;jsess...</td>\n",
       "    </tr>\n",
       "    <tr>\n",
       "      <th>3</th>\n",
       "      <td>Belle Pulses Ltd.</td>\n",
       "      <td>Flour Milling and Malt Manufacturing (31121)</td>\n",
       "      <td>http://www.ic.gc.ca/app/ccc/srch/nvgt.do;jsess...</td>\n",
       "    </tr>\n",
       "    <tr>\n",
       "      <th>4</th>\n",
       "      <td>John Boy Farms</td>\n",
       "      <td>Vegetable and Melon Farming (11121)</td>\n",
       "      <td>http://www.ic.gc.ca/app/ccc/srch/nvgt.do;jsess...</td>\n",
       "    </tr>\n",
       "  </tbody>\n",
       "</table>\n",
       "</div>"
      ],
      "text/plain": [
       "                                            company  \\\n",
       "0                                         Agrideria   \n",
       "1  Everyones Test Company (Leave in Tank) Operating   \n",
       "2                                 Thompsons Limited   \n",
       "3                                 Belle Pulses Ltd.   \n",
       "4                                    John Boy Farms   \n",
       "\n",
       "                                         sector  \\\n",
       "0                All Other Crop Farming (11199)   \n",
       "1   Cutlery and Hand Tool Manufacturing (33221)   \n",
       "2          Seed Wholesaler-Distributors (41832)   \n",
       "3  Flour Milling and Malt Manufacturing (31121)   \n",
       "4           Vegetable and Melon Farming (11121)   \n",
       "\n",
       "                                                 URL  \n",
       "0  http://www.ic.gc.ca/app/ccc/srch/nvgt.do;jsess...  \n",
       "1  http://www.ic.gc.ca/app/ccc/srch/nvgt.do;jsess...  \n",
       "2  http://www.ic.gc.ca/app/ccc/srch/nvgt.do;jsess...  \n",
       "3  http://www.ic.gc.ca/app/ccc/srch/nvgt.do;jsess...  \n",
       "4  http://www.ic.gc.ca/app/ccc/srch/nvgt.do;jsess...  "
      ]
     },
     "execution_count": 601,
     "metadata": {},
     "output_type": "execute_result"
    }
   ],
   "source": [
    "company.head()"
   ]
  },
  {
   "cell_type": "markdown",
   "metadata": {},
   "source": [
    "**step 4: collect and store each company HTML webpage content**"
   ]
  },
  {
   "cell_type": "markdown",
   "metadata": {},
   "source": [
    "Here we scrape all of the HTML content of each company webpage and store in a SQL database"
   ]
  },
  {
   "cell_type": "code",
   "execution_count": 23,
   "metadata": {
    "collapsed": true
   },
   "outputs": [],
   "source": [
    "soup_dict ={}\n",
    "track=0\n",
    "errors = {}\n",
    "for i in comp_url.URL:\n",
    "    try:\n",
    "        page = requests.get(i, timeout=10)\n",
    "    except: \n",
    "        errors[track] = i\n",
    "        track+=1\n",
    "    soup_dict[track] = i,page.content\n",
    "    track+=1\n",
    "    \n",
    "soup_dict_pd = pd.DataFrame.from_dict(soup_dict, orient='index').reset_index()\n",
    "soup_dict_pd.columns = ['soup_index','URL','soup']\n",
    "soup_dict_pd['comp_ID'] = soup_dict_pd.soup_index+1"
   ]
  },
  {
   "cell_type": "code",
   "execution_count": null,
   "metadata": {
    "collapsed": true
   },
   "outputs": [],
   "source": [
    "def init_db(dbfile, path_start):\n",
    "    \"\"\"\n",
    "    Creates a sqlite db file\n",
    "    \n",
    "    Inputs\n",
    "    -------\n",
    "    dbfile : str\n",
    "        Name of the db file to create\n",
    "        \n",
    "    path_start : str\n",
    "        Location to save db file   \n",
    "    Returns\n",
    "    --------\n",
    "    Nothing. Creates a new database file saved in the path_start location\n",
    "    \"\"\"\n",
    "    sqlite_db = sq3.connect(os.path.join(path_start, dbfile))\n",
    "    return sqlite_db\n",
    "\n",
    "\n",
    "#Creates an empty SQL database\n",
    "new_db = \"scraped_html.db\"\n",
    "soup_db = init_db(new_db)"
   ]
  },
  {
   "cell_type": "code",
   "execution_count": null,
   "metadata": {
    "collapsed": true
   },
   "outputs": [],
   "source": [
    "soup_dict_pd = soup_dict_pd.set_index('comp_ID')\n",
    "soup_dict_pd.to_sql('ic_comp_soup', soup_db, if_exists='append')\n",
    "soup_dict_pd = soup_dict_pd.reset_index()"
   ]
  },
  {
   "cell_type": "markdown",
   "metadata": {},
   "source": [
    "**step 5: parse HTML and construct datframes**"
   ]
  },
  {
   "cell_type": "markdown",
   "metadata": {},
   "source": [
    "We create our dataframe from each of these pages above. Four (4) dataframes are constructed; company information, contact information, company description and product/service offered**"
   ]
  },
  {
   "cell_type": "code",
   "execution_count": 29,
   "metadata": {
    "collapsed": true
   },
   "outputs": [],
   "source": [
    "comp_info ={}\n",
    "cont_info ={}\n",
    "comp_descr ={}\n",
    "comp_prod = {}\n",
    "comp_id = 0\n",
    "for i in soup_pd.soup:\n",
    "    soup = BeautifulSoup(i, 'lxml')\n",
    "    \n",
    "    #collecting company's information data\n",
    "    m = []\n",
    "    n = []\n",
    "\n",
    "    try:\n",
    "        for i in soup.findAll('div', {'class':'col-md-5'}):\n",
    "            for j in i.findAll('h2'):\n",
    "                m.append(j.getText())\n",
    "            for j in i.findAll('p'):\n",
    "                n.append(j.getText())\n",
    "        for k in range(len(m)):\n",
    "            if m[k] == 'Company Contact Information:':\n",
    "                del m[k:]\n",
    "                del n[k:]\n",
    "                break\n",
    "        if len(m) == 1:\n",
    "            comp_leg_name = n[0]\n",
    "            comp_oper_name = n[0]\n",
    "        else:\n",
    "            comp_leg_name = n[0]\n",
    "            comp_oper_name = n[1]\n",
    "                \n",
    "        comp_id+=1\n",
    "        comp_ID = '%05d' %comp_id\n",
    "    except:\n",
    "        pass\n",
    "\n",
    "    p = []\n",
    "    comp_web = ''\n",
    "    pattern_1 ='http://*'\n",
    "    pattern_2 ='www.*'\n",
    "    pattern_3 ='https://*'\n",
    "    try:\n",
    "        for i in soup.findAll('div', {'class':'mrgn-tp-0 grouping '}):\n",
    "            for j in i.findAll('a'):\n",
    "                p.append(j.get('href'))\n",
    "            for l in p:\n",
    "                if is_match(l, pattern_1) or is_match(l, pattern_2) or is_match(l, pattern_3) :    \n",
    "                    comp_web = l                \n",
    "    except:\n",
    "        pass            \n",
    "\n",
    "    p = []  \n",
    "    pattern ='Tel.:*'\n",
    "    try:\n",
    "        for i in soup.findAll('div', {'class':'mrgn-tp-0 grouping '}):\n",
    "            for j in i.findAll('p'):\n",
    "                p.append(j.getText())\n",
    "            for l in p:\n",
    "                if is_match(l, pattern): \n",
    "                    comp_tel = l\n",
    "                   \n",
    "    except:\n",
    "        pass\n",
    "\n",
    "    try:\n",
    "        for i in soup.findAll('address', {'class':'mrgn-bttm-md'}):\n",
    "            comp_add = i.getText()\n",
    "    except:\n",
    "        pass\n",
    "\n",
    "\n",
    "    comp_info[comp_oper_name] = comp_leg_name,  comp_ID, comp_add, comp_web, comp_tel\n",
    "    comp_leg_name = ''\n",
    "    comp_add = ''\n",
    "    comp_web = ''\n",
    "    comp_tel = ''\n",
    "    \n",
    "    #collecting company's contacts data\n",
    "    p = []\n",
    "    q = []\n",
    "\n",
    "    try:\n",
    "        for auto in soup.findAll('details', {'id':'details-panel2'}):\n",
    "                for k in auto.findAll('div', {'class':'col-md-3'}):\n",
    "                    q.append(k.getText())\n",
    "                for j in auto.findAll('div', {'class':'row mrgn-lft-md'}):\n",
    "                    for k in j.findAll('div', {'class':'col-md-5'}):\n",
    "                        a = k.getText()\n",
    "                        a = a.split()\n",
    "                    for k in j.findAll('div', {'class':'col-md-7'}):\n",
    "                        b = k.getText()\n",
    "                        b = b.split()\n",
    "                    c = a+b    \n",
    "                    p.append(''.join(c))\n",
    "        \n",
    "        ran = len(p)//len(q)\n",
    "        for i in range(len(q)):\n",
    "            #cont_det = ', '.join(str(e) for e in p[i*ran:ran*(i+1)])\n",
    "            cont_det = p[i*ran:ran*(i+1)]\n",
    "            cont_info[q[i]] = comp_oper_name, comp_ID, cont_det \n",
    "                    \n",
    "    except:\n",
    "        pass            \n",
    "    \n",
    "    cont_det = ''\n",
    "    \n",
    "    #collecting comany's description\n",
    "    try:\n",
    "        for i in soup.findAll('div', {'class':'row mrgn-tp-md mrgn-bttm-md'}):\n",
    "            for j in i.findAll('div', {'class':'col-md-12'}):\n",
    "                comp_prof = j.getText()                 \n",
    "                    \n",
    "    except:\n",
    "        pass\n",
    "        \n",
    "    p=[]\n",
    "    try:\n",
    "        for auto in soup.findAll('details', {'id':'details-panel3'}):\n",
    "            for j in auto.findAll('div', {'class':'row'}):\n",
    "                    for k in j.findAll('div', {'class':'col-md-5'}):\n",
    "                        a = k.getText()\n",
    "                        a = a.split()\n",
    "                    for k in j.findAll('div', {'class':'col-md-7'}):\n",
    "                        b = k.getText()\n",
    "                        b = b.split()\n",
    "                    c = a+b    \n",
    "                    p.append(''.join(c))\n",
    "                    #descr = ', '.join(str(e) for e in p)\n",
    "        \n",
    "        comp_descr[comp_oper_name] = comp_ID, comp_prof, p #descr \n",
    "                    \n",
    "    except:\n",
    "        pass            \n",
    "    \n",
    "    comp_prof = ''\n",
    "    #descr = '' \n",
    "    \n",
    "    #collecting company's products and services information\n",
    "    p=[]\n",
    "    try:\n",
    "        for auto in soup.findAll('details', {'id':'details-panel4'}):\n",
    "            for j in auto.findAll('div', {'class':'row mrgn-bttm-md'}):\n",
    "                    #for k in j.findAll('div', {'class':'col-md-3'}):\n",
    "                        #a = k.getText()\n",
    "                        #a = a.split()\n",
    "                    for k in j.findAll('div', {'class':'col-md-9'}):\n",
    "                        b = k.getText()\n",
    "                        b = b.split()\n",
    "                        p.append(' '.join(b))\n",
    "                        \n",
    "                    for k in j.findAll('div', {'class':'col-md-12'}):\n",
    "                        b = k.getText()\n",
    "                        b = b.split()\n",
    "                        p.append(' '.join(b))    \n",
    "                        \n",
    "                    #c = a+b    \n",
    "                    #p.append(''.join(c))\n",
    "                    #prod_name = ', '.join(str(e) for e in p)\n",
    "        \n",
    "        comp_prod[comp_oper_name] = comp_ID, p #prod_name \n",
    "                    \n",
    "    except:\n",
    "        pass            \n",
    "    \n",
    "    comp_oper_name = ''\n",
    "    #prod_name = ''\n",
    "    \n",
    "last_id = comp_id    \n",
    "\n",
    "\n",
    "comp_info_pd = pd.DataFrame.from_dict(comp_info, orient='index').reset_index()\n",
    "comp_info_pd.columns = ['comp_op_name' ,'comp_leg_name','comp_ID','address','website', 'telephone']\n",
    "cont_info_pd = pd.DataFrame.from_dict(cont_info, orient='index').reset_index()\n",
    "cont_info_pd.columns = ['cont_name','comp_op_name','comp_ID','cont_det']\n",
    "comp_descr_pd = pd.DataFrame.from_dict(comp_descr, orient='index').reset_index()\n",
    "comp_descr_pd.columns = ['comp_op_name', 'comp_ID','comp_prof','descr']\n",
    "comp_prod_pd = pd.DataFrame.from_dict(comp_prod, orient='index').reset_index()\n",
    "comp_prod_pd.columns = ['comp_op_name','comp_ID','prod_name']"
   ]
  },
  {
   "cell_type": "markdown",
   "metadata": {},
   "source": [
    "### Part 2. Data joining and cleaning\n"
   ]
  },
  {
   "cell_type": "markdown",
   "metadata": {},
   "source": [
    "#### i. Company Information"
   ]
  },
  {
   "cell_type": "code",
   "execution_count": 83,
   "metadata": {},
   "outputs": [
    {
     "data": {
      "text/html": [
       "<div>\n",
       "<style>\n",
       "    .dataframe thead tr:only-child th {\n",
       "        text-align: right;\n",
       "    }\n",
       "\n",
       "    .dataframe thead th {\n",
       "        text-align: left;\n",
       "    }\n",
       "\n",
       "    .dataframe tbody tr th {\n",
       "        vertical-align: top;\n",
       "    }\n",
       "</style>\n",
       "<table border=\"1\" class=\"dataframe\">\n",
       "  <thead>\n",
       "    <tr style=\"text-align: right;\">\n",
       "      <th></th>\n",
       "      <th>comp_op_name</th>\n",
       "      <th>comp_leg_name</th>\n",
       "      <th>comp_ID</th>\n",
       "      <th>address</th>\n",
       "      <th>website</th>\n",
       "      <th>telephone</th>\n",
       "    </tr>\n",
       "  </thead>\n",
       "  <tbody>\n",
       "    <tr>\n",
       "      <th>0</th>\n",
       "      <td>Agrideria</td>\n",
       "      <td>Agrideria Industrial</td>\n",
       "      <td>00001</td>\n",
       "      <td>\\n                \\n                   4443 Ri...</td>\n",
       "      <td>http://www.agrideriaindustrial.com</td>\n",
       "      <td>Tel.:\\n              (403) 240-2400\\n</td>\n",
       "    </tr>\n",
       "    <tr>\n",
       "      <th>1</th>\n",
       "      <td>Everyones Test Company (Leave in Tank) Operating</td>\n",
       "      <td>Everyones Test Company (Leave in Tank) Leg</td>\n",
       "      <td>00002</td>\n",
       "      <td>\\n                \\n                   235 Que...</td>\n",
       "      <td>http://www.scroogle.com</td>\n",
       "      <td>Tel.:\\n                  (844) 123-4567</td>\n",
       "    </tr>\n",
       "    <tr>\n",
       "      <th>2</th>\n",
       "      <td>Thompsons Limited</td>\n",
       "      <td>Thompsons Limited</td>\n",
       "      <td>00003</td>\n",
       "      <td>\\n                \\n                   P.O. Bo...</td>\n",
       "      <td>http://www.thompsonslimited.com</td>\n",
       "      <td>Tel.:\\n              (519) 676-5411\\n</td>\n",
       "    </tr>\n",
       "    <tr>\n",
       "      <th>3</th>\n",
       "      <td>Belle Pulses Ltd.</td>\n",
       "      <td>Belle Pulses Ltd.</td>\n",
       "      <td>00004</td>\n",
       "      <td>\\n                \\n                   1101 Ma...</td>\n",
       "      <td></td>\n",
       "      <td>Tel.:\\n                  (877) 423-5202</td>\n",
       "    </tr>\n",
       "    <tr>\n",
       "      <th>4</th>\n",
       "      <td>John Boy Farms</td>\n",
       "      <td>John Boy Farms</td>\n",
       "      <td>00005</td>\n",
       "      <td>\\n                \\n                   11 Ouim...</td>\n",
       "      <td>http://garlicseed.ca/</td>\n",
       "      <td>Tel.:\\n              (204) 882-2751\\n</td>\n",
       "    </tr>\n",
       "  </tbody>\n",
       "</table>\n",
       "</div>"
      ],
      "text/plain": [
       "                                       comp_op_name  \\\n",
       "0                                         Agrideria   \n",
       "1  Everyones Test Company (Leave in Tank) Operating   \n",
       "2                                 Thompsons Limited   \n",
       "3                                 Belle Pulses Ltd.   \n",
       "4                                    John Boy Farms   \n",
       "\n",
       "                                comp_leg_name comp_ID  \\\n",
       "0                        Agrideria Industrial   00001   \n",
       "1  Everyones Test Company (Leave in Tank) Leg   00002   \n",
       "2                           Thompsons Limited   00003   \n",
       "3                           Belle Pulses Ltd.   00004   \n",
       "4                              John Boy Farms   00005   \n",
       "\n",
       "                                             address  \\\n",
       "0  \\n                \\n                   4443 Ri...   \n",
       "1  \\n                \\n                   235 Que...   \n",
       "2  \\n                \\n                   P.O. Bo...   \n",
       "3  \\n                \\n                   1101 Ma...   \n",
       "4  \\n                \\n                   11 Ouim...   \n",
       "\n",
       "                              website  \\\n",
       "0  http://www.agrideriaindustrial.com   \n",
       "1             http://www.scroogle.com   \n",
       "2     http://www.thompsonslimited.com   \n",
       "3                                       \n",
       "4               http://garlicseed.ca/   \n",
       "\n",
       "                                         telephone  \n",
       "0  Tel.:\\n              (403) 240-2400\\n            \n",
       "1          Tel.:\\n                  (844) 123-4567  \n",
       "2  Tel.:\\n              (519) 676-5411\\n            \n",
       "3          Tel.:\\n                  (877) 423-5202  \n",
       "4  Tel.:\\n              (204) 882-2751\\n            "
      ]
     },
     "execution_count": 83,
     "metadata": {},
     "output_type": "execute_result"
    }
   ],
   "source": [
    "comp_info_pd.head()"
   ]
  },
  {
   "cell_type": "code",
   "execution_count": 924,
   "metadata": {
    "collapsed": true
   },
   "outputs": [],
   "source": [
    "comp_info_pd['address'] = comp_info_pd['address'].str.split()\n",
    "comp_info_pd['address'] = comp_info_pd['address'].apply(lambda x: ' '.join(x))\n",
    "comp_info_pd['telephone'] = comp_info_pd['telephone'].str.slice(5,)\n",
    "comp_info_pd['telephone'] = comp_info_pd['telephone'].str.split()\n",
    "comp_info_pd['telephone'] = comp_info_pd['telephone'].apply(lambda x: ' '.join(x))"
   ]
  },
  {
   "cell_type": "code",
   "execution_count": 948,
   "metadata": {
    "collapsed": true
   },
   "outputs": [],
   "source": [
    "comp_info_pd = comp_info_pd[comp_info_pd.comp_op_name != '']  "
   ]
  },
  {
   "cell_type": "code",
   "execution_count": 949,
   "metadata": {},
   "outputs": [
    {
     "data": {
      "text/html": [
       "<div>\n",
       "<style>\n",
       "    .dataframe thead tr:only-child th {\n",
       "        text-align: right;\n",
       "    }\n",
       "\n",
       "    .dataframe thead th {\n",
       "        text-align: left;\n",
       "    }\n",
       "\n",
       "    .dataframe tbody tr th {\n",
       "        vertical-align: top;\n",
       "    }\n",
       "</style>\n",
       "<table border=\"1\" class=\"dataframe\">\n",
       "  <thead>\n",
       "    <tr style=\"text-align: right;\">\n",
       "      <th></th>\n",
       "      <th>comp_op_name</th>\n",
       "      <th>comp_leg_name</th>\n",
       "      <th>comp_ID</th>\n",
       "      <th>address</th>\n",
       "      <th>website</th>\n",
       "      <th>telephone</th>\n",
       "    </tr>\n",
       "  </thead>\n",
       "  <tbody>\n",
       "  </tbody>\n",
       "</table>\n",
       "</div>"
      ],
      "text/plain": [
       "Empty DataFrame\n",
       "Columns: [comp_op_name, comp_leg_name, comp_ID, address, website, telephone]\n",
       "Index: []"
      ]
     },
     "execution_count": 949,
     "metadata": {},
     "output_type": "execute_result"
    }
   ],
   "source": [
    "comp_info_pd[comp_info_pd.comp_op_name == '']"
   ]
  },
  {
   "cell_type": "code",
   "execution_count": 751,
   "metadata": {
    "collapsed": true
   },
   "outputs": [],
   "source": [
    "comp_info_pd = comp_info_pd.drop_duplicates(subset= ['comp_leg_name','comp_op_name','address'], keep='first') #run later"
   ]
  },
  {
   "cell_type": "code",
   "execution_count": 951,
   "metadata": {},
   "outputs": [
    {
     "data": {
      "text/html": [
       "<div>\n",
       "<style>\n",
       "    .dataframe thead tr:only-child th {\n",
       "        text-align: right;\n",
       "    }\n",
       "\n",
       "    .dataframe thead th {\n",
       "        text-align: left;\n",
       "    }\n",
       "\n",
       "    .dataframe tbody tr th {\n",
       "        vertical-align: top;\n",
       "    }\n",
       "</style>\n",
       "<table border=\"1\" class=\"dataframe\">\n",
       "  <thead>\n",
       "    <tr style=\"text-align: right;\">\n",
       "      <th></th>\n",
       "      <th>comp_op_name</th>\n",
       "      <th>comp_leg_name</th>\n",
       "      <th>comp_ID</th>\n",
       "      <th>address</th>\n",
       "      <th>website</th>\n",
       "      <th>telephone</th>\n",
       "    </tr>\n",
       "  </thead>\n",
       "  <tbody>\n",
       "  </tbody>\n",
       "</table>\n",
       "</div>"
      ],
      "text/plain": [
       "Empty DataFrame\n",
       "Columns: [comp_op_name, comp_leg_name, comp_ID, address, website, telephone]\n",
       "Index: []"
      ]
     },
     "execution_count": 951,
     "metadata": {},
     "output_type": "execute_result"
    }
   ],
   "source": [
    "comp_info_pd[comp_info_pd.duplicated(subset= ['comp_ID'])]"
   ]
  },
  {
   "cell_type": "code",
   "execution_count": 832,
   "metadata": {
    "collapsed": true
   },
   "outputs": [],
   "source": [
    "comp_info_pd['lw_cs_leg'] = comp_info_pd.comp_leg_name.str.lower()\n",
    "comp_info_pd['lw_op_leg'] = comp_info_pd.comp_op_name.str.lower()"
   ]
  },
  {
   "cell_type": "code",
   "execution_count": 950,
   "metadata": {},
   "outputs": [
    {
     "data": {
      "text/html": [
       "<div>\n",
       "<style>\n",
       "    .dataframe thead tr:only-child th {\n",
       "        text-align: right;\n",
       "    }\n",
       "\n",
       "    .dataframe thead th {\n",
       "        text-align: left;\n",
       "    }\n",
       "\n",
       "    .dataframe tbody tr th {\n",
       "        vertical-align: top;\n",
       "    }\n",
       "</style>\n",
       "<table border=\"1\" class=\"dataframe\">\n",
       "  <thead>\n",
       "    <tr style=\"text-align: right;\">\n",
       "      <th></th>\n",
       "      <th>comp_op_name</th>\n",
       "      <th>comp_leg_name</th>\n",
       "      <th>comp_ID</th>\n",
       "      <th>address</th>\n",
       "      <th>website</th>\n",
       "      <th>telephone</th>\n",
       "    </tr>\n",
       "  </thead>\n",
       "  <tbody>\n",
       "    <tr>\n",
       "      <th>23579</th>\n",
       "      <td>RÉCF</td>\n",
       "      <td>Regroupement des éditeurs canadiens-français</td>\n",
       "      <td>56630</td>\n",
       "      <td>450, rue Rideau Bureau 402 OTTAWA, Ontario K1N...</td>\n",
       "      <td>http://www.avoslivres.ca</td>\n",
       "      <td>(888) 320-8070</td>\n",
       "    </tr>\n",
       "  </tbody>\n",
       "</table>\n",
       "</div>"
      ],
      "text/plain": [
       "      comp_op_name                                 comp_leg_name comp_ID  \\\n",
       "23579         RÉCF  Regroupement des éditeurs canadiens-français   56630   \n",
       "\n",
       "                                                 address  \\\n",
       "23579  450, rue Rideau Bureau 402 OTTAWA, Ontario K1N...   \n",
       "\n",
       "                        website       telephone  \n",
       "23579  http://www.avoslivres.ca  (888) 320-8070  "
      ]
     },
     "execution_count": 950,
     "metadata": {},
     "output_type": "execute_result"
    }
   ],
   "source": [
    "comp_info_pd[comp_info_pd.comp_ID == '56630']"
   ]
  },
  {
   "cell_type": "code",
   "execution_count": 1474,
   "metadata": {},
   "outputs": [
    {
     "data": {
      "text/plain": [
       "(46874, 6)"
      ]
     },
     "execution_count": 1474,
     "metadata": {},
     "output_type": "execute_result"
    }
   ],
   "source": [
    "comp_info_pd.shape"
   ]
  },
  {
   "cell_type": "code",
   "execution_count": 958,
   "metadata": {},
   "outputs": [
    {
     "data": {
      "text/html": [
       "<div>\n",
       "<style>\n",
       "    .dataframe thead tr:only-child th {\n",
       "        text-align: right;\n",
       "    }\n",
       "\n",
       "    .dataframe thead th {\n",
       "        text-align: left;\n",
       "    }\n",
       "\n",
       "    .dataframe tbody tr th {\n",
       "        vertical-align: top;\n",
       "    }\n",
       "</style>\n",
       "<table border=\"1\" class=\"dataframe\">\n",
       "  <thead>\n",
       "    <tr style=\"text-align: right;\">\n",
       "      <th></th>\n",
       "      <th>comp_ID</th>\n",
       "      <th>comp_op_name</th>\n",
       "      <th>comp_leg_name</th>\n",
       "      <th>address</th>\n",
       "      <th>website</th>\n",
       "      <th>telephone</th>\n",
       "    </tr>\n",
       "  </thead>\n",
       "  <tbody>\n",
       "    <tr>\n",
       "      <th>46869</th>\n",
       "      <td>56768</td>\n",
       "      <td>Institut CMM</td>\n",
       "      <td>World Trade Centre Montréal</td>\n",
       "      <td>380, rue Saint-Antoine O Bureau 6000 MONTRÉAL,...</td>\n",
       "      <td>http://www.centredecommercemondial.com/en/</td>\n",
       "      <td>(877) 590-4040</td>\n",
       "    </tr>\n",
       "    <tr>\n",
       "      <th>46870</th>\n",
       "      <td>56769</td>\n",
       "      <td>Yarmouth and Area Chamber of Commerce</td>\n",
       "      <td>Yarmouth and Area Chamber of Commerce</td>\n",
       "      <td>108-368 Main St YARMOUTH, Nova Scotia B5A 1E9</td>\n",
       "      <td>http://www.yarmouthchamberofcommerce.com/</td>\n",
       "      <td>(902) 742-3074</td>\n",
       "    </tr>\n",
       "    <tr>\n",
       "      <th>46871</th>\n",
       "      <td>56770</td>\n",
       "      <td>Yellowknife Chamber of Commerce</td>\n",
       "      <td>Yellowknife Chamber of Commerce</td>\n",
       "      <td>4921 49 St NWT Commerce Place Bldg, 3rd Floor ...</td>\n",
       "      <td>http://www.ykchamber.com</td>\n",
       "      <td>(867) 920-4944</td>\n",
       "    </tr>\n",
       "    <tr>\n",
       "      <th>46872</th>\n",
       "      <td>56771</td>\n",
       "      <td>Yorkton Chamber of Commerce</td>\n",
       "      <td>Yorkton Chamber of Commerce</td>\n",
       "      <td>PO Box 1051 Stn Del. Centre YORKTON, Saskatche...</td>\n",
       "      <td>http://www.yorktonchamber.com</td>\n",
       "      <td>(306) 783-4368</td>\n",
       "    </tr>\n",
       "    <tr>\n",
       "      <th>46873</th>\n",
       "      <td>56772</td>\n",
       "      <td>Yukon Chamber of Commerce</td>\n",
       "      <td>Yukon Chamber of Commerce</td>\n",
       "      <td>205-2237 2nd Ave WHITEHORSE, Yukon Y1A 0K7</td>\n",
       "      <td>http://www.yukonchamber.com</td>\n",
       "      <td>(800) 661-0543</td>\n",
       "    </tr>\n",
       "  </tbody>\n",
       "</table>\n",
       "</div>"
      ],
      "text/plain": [
       "      comp_ID                           comp_op_name  \\\n",
       "46869   56768                           Institut CMM   \n",
       "46870   56769  Yarmouth and Area Chamber of Commerce   \n",
       "46871   56770        Yellowknife Chamber of Commerce   \n",
       "46872   56771            Yorkton Chamber of Commerce   \n",
       "46873   56772              Yukon Chamber of Commerce   \n",
       "\n",
       "                               comp_leg_name  \\\n",
       "46869            World Trade Centre Montréal   \n",
       "46870  Yarmouth and Area Chamber of Commerce   \n",
       "46871        Yellowknife Chamber of Commerce   \n",
       "46872            Yorkton Chamber of Commerce   \n",
       "46873              Yukon Chamber of Commerce   \n",
       "\n",
       "                                                 address  \\\n",
       "46869  380, rue Saint-Antoine O Bureau 6000 MONTRÉAL,...   \n",
       "46870      108-368 Main St YARMOUTH, Nova Scotia B5A 1E9   \n",
       "46871  4921 49 St NWT Commerce Place Bldg, 3rd Floor ...   \n",
       "46872  PO Box 1051 Stn Del. Centre YORKTON, Saskatche...   \n",
       "46873         205-2237 2nd Ave WHITEHORSE, Yukon Y1A 0K7   \n",
       "\n",
       "                                          website       telephone  \n",
       "46869  http://www.centredecommercemondial.com/en/  (877) 590-4040  \n",
       "46870   http://www.yarmouthchamberofcommerce.com/  (902) 742-3074  \n",
       "46871                    http://www.ykchamber.com  (867) 920-4944  \n",
       "46872               http://www.yorktonchamber.com  (306) 783-4368  \n",
       "46873                 http://www.yukonchamber.com  (800) 661-0543  "
      ]
     },
     "execution_count": 958,
     "metadata": {},
     "output_type": "execute_result"
    }
   ],
   "source": [
    "comp_info_pd.tail()"
   ]
  },
  {
   "cell_type": "code",
   "execution_count": 764,
   "metadata": {
    "collapsed": true
   },
   "outputs": [],
   "source": [
    "comp_db = sq3.connect(\"comp_feat.db\")"
   ]
  },
  {
   "cell_type": "code",
   "execution_count": 971,
   "metadata": {
    "collapsed": true
   },
   "outputs": [],
   "source": [
    "comp_info_pd = comp_info_pd.sort_values('comp_ID')\n",
    "comp_info_pd = comp_info_pd.set_index('comp_ID')\n",
    "comp_info_pd.to_sql('ic_comp_det', comp_db, if_exists='append')\n",
    "comp_info_pd = comp_info_pd.reset_index()"
   ]
  },
  {
   "cell_type": "markdown",
   "metadata": {},
   "source": [
    "#### ii. Contact Information"
   ]
  },
  {
   "cell_type": "code",
   "execution_count": 962,
   "metadata": {},
   "outputs": [
    {
     "data": {
      "text/html": [
       "<div>\n",
       "<style>\n",
       "    .dataframe thead tr:only-child th {\n",
       "        text-align: right;\n",
       "    }\n",
       "\n",
       "    .dataframe thead th {\n",
       "        text-align: left;\n",
       "    }\n",
       "\n",
       "    .dataframe tbody tr th {\n",
       "        vertical-align: top;\n",
       "    }\n",
       "</style>\n",
       "<table border=\"1\" class=\"dataframe\">\n",
       "  <thead>\n",
       "    <tr style=\"text-align: right;\">\n",
       "      <th></th>\n",
       "      <th>cont_name</th>\n",
       "      <th>comp_op_name</th>\n",
       "      <th>comp_ID</th>\n",
       "      <th>cont_det</th>\n",
       "    </tr>\n",
       "  </thead>\n",
       "  <tbody>\n",
       "    <tr>\n",
       "      <th>0</th>\n",
       "      <td>\\n\\n                Ramon\\n                Agu...</td>\n",
       "      <td>Agrideria</td>\n",
       "      <td>00001</td>\n",
       "      <td>[Title:ChiefExecutiveOfficer, AreaofResponsibi...</td>\n",
       "    </tr>\n",
       "    <tr>\n",
       "      <th>1</th>\n",
       "      <td>\\n\\n                Gordon M.\\n               ...</td>\n",
       "      <td>BSB Biotech</td>\n",
       "      <td>29816</td>\n",
       "      <td>[Title:President, AreaofResponsibility:Adminis...</td>\n",
       "    </tr>\n",
       "    <tr>\n",
       "      <th>2</th>\n",
       "      <td>\\n\\n                First\\n                Las...</td>\n",
       "      <td>Everyones Test Company (Leave in Tank) Operating</td>\n",
       "      <td>46106</td>\n",
       "      <td>[Title:Representative, AreaofResponsibility:Ex...</td>\n",
       "    </tr>\n",
       "    <tr>\n",
       "      <th>3</th>\n",
       "      <td>\\n\\n                Firstname\\n               ...</td>\n",
       "      <td>Everyones Test Company (Leave in Tank) Operating</td>\n",
       "      <td>46106</td>\n",
       "      <td>[Ext:999, Email:test@test.com, Title:Chairman]</td>\n",
       "    </tr>\n",
       "    <tr>\n",
       "      <th>4</th>\n",
       "      <td>\\n\\n                contact with\\n            ...</td>\n",
       "      <td>Everyones Test Company (Leave in Tank) Operating</td>\n",
       "      <td>46106</td>\n",
       "      <td>[AreaofResponsibility:ManagementExecutive., Te...</td>\n",
       "    </tr>\n",
       "  </tbody>\n",
       "</table>\n",
       "</div>"
      ],
      "text/plain": [
       "                                           cont_name  \\\n",
       "0  \\n\\n                Ramon\\n                Agu...   \n",
       "1  \\n\\n                Gordon M.\\n               ...   \n",
       "2  \\n\\n                First\\n                Las...   \n",
       "3  \\n\\n                Firstname\\n               ...   \n",
       "4  \\n\\n                contact with\\n            ...   \n",
       "\n",
       "                                       comp_op_name comp_ID  \\\n",
       "0                                         Agrideria   00001   \n",
       "1                                       BSB Biotech   29816   \n",
       "2  Everyones Test Company (Leave in Tank) Operating   46106   \n",
       "3  Everyones Test Company (Leave in Tank) Operating   46106   \n",
       "4  Everyones Test Company (Leave in Tank) Operating   46106   \n",
       "\n",
       "                                            cont_det  \n",
       "0  [Title:ChiefExecutiveOfficer, AreaofResponsibi...  \n",
       "1  [Title:President, AreaofResponsibility:Adminis...  \n",
       "2  [Title:Representative, AreaofResponsibility:Ex...  \n",
       "3     [Ext:999, Email:test@test.com, Title:Chairman]  \n",
       "4  [AreaofResponsibility:ManagementExecutive., Te...  "
      ]
     },
     "execution_count": 962,
     "metadata": {},
     "output_type": "execute_result"
    }
   ],
   "source": [
    "cont_info_pd.head()"
   ]
  },
  {
   "cell_type": "code",
   "execution_count": 796,
   "metadata": {
    "collapsed": true
   },
   "outputs": [],
   "source": [
    "def sep(l, heading):\n",
    "    a = ''\n",
    "    for i in l:\n",
    "        if i[0:len(heading)] == heading:\n",
    "            a = i[len(heading):]\n",
    "            break\n",
    "        else:\n",
    "            a = ''\n",
    "    return a"
   ]
  },
  {
   "cell_type": "code",
   "execution_count": 963,
   "metadata": {
    "collapsed": true
   },
   "outputs": [],
   "source": [
    "cont_info_pd['cont_name'] = cont_info_pd['cont_name'].str.split()\n",
    "cont_info_pd['cont_name'] = cont_info_pd['cont_name'].apply(lambda x: ' '.join(x))"
   ]
  },
  {
   "cell_type": "code",
   "execution_count": 964,
   "metadata": {
    "collapsed": true
   },
   "outputs": [],
   "source": [
    "cont_info_pd['title'] = cont_info_pd['cont_det'].apply(sep, heading ='Title:')\n",
    "cont_info_pd['responsibility'] = cont_info_pd['cont_det'].apply(sep, heading ='AreaofResponsibility:')\n",
    "cont_info_pd['tel'] = cont_info_pd['cont_det'].apply(sep, heading ='Telephone:')\n",
    "cont_info_pd['ext.'] = cont_info_pd['cont_det'].apply(sep, heading ='Ext:')\n",
    "cont_info_pd['email'] = cont_info_pd['cont_det'].apply(sep, heading ='Email:')\n",
    "#del cont_info_pd['cont_det']"
   ]
  },
  {
   "cell_type": "code",
   "execution_count": 965,
   "metadata": {
    "collapsed": true
   },
   "outputs": [],
   "source": [
    "cont_info_pd['title'] = cont_info_pd['title'].apply(lambda x: re.findall('[A-Z][^A-Z]*',x))\n",
    "cont_info_pd['title'] = cont_info_pd['title'].apply(lambda x: ' '.join(x))\n",
    "cont_info_pd['responsibility'] = cont_info_pd['responsibility'].apply(lambda x: re.findall('[A-Z][^A-Z]*',x))\n",
    "cont_info_pd['responsibility'] = cont_info_pd['responsibility'].apply(lambda x: ' '.join(x))"
   ]
  },
  {
   "cell_type": "code",
   "execution_count": 966,
   "metadata": {},
   "outputs": [
    {
     "data": {
      "text/plain": [
       "(67062, 9)"
      ]
     },
     "execution_count": 966,
     "metadata": {},
     "output_type": "execute_result"
    }
   ],
   "source": [
    "cont_info_pd.shape"
   ]
  },
  {
   "cell_type": "code",
   "execution_count": 967,
   "metadata": {},
   "outputs": [
    {
     "data": {
      "text/html": [
       "<div>\n",
       "<style>\n",
       "    .dataframe thead tr:only-child th {\n",
       "        text-align: right;\n",
       "    }\n",
       "\n",
       "    .dataframe thead th {\n",
       "        text-align: left;\n",
       "    }\n",
       "\n",
       "    .dataframe tbody tr th {\n",
       "        vertical-align: top;\n",
       "    }\n",
       "</style>\n",
       "<table border=\"1\" class=\"dataframe\">\n",
       "  <thead>\n",
       "    <tr style=\"text-align: right;\">\n",
       "      <th></th>\n",
       "      <th>cont_name</th>\n",
       "      <th>comp_op_name</th>\n",
       "      <th>comp_ID</th>\n",
       "      <th>cont_det</th>\n",
       "      <th>title</th>\n",
       "      <th>responsibility</th>\n",
       "      <th>tel</th>\n",
       "      <th>ext.</th>\n",
       "      <th>email</th>\n",
       "    </tr>\n",
       "  </thead>\n",
       "  <tbody>\n",
       "    <tr>\n",
       "      <th>28784</th>\n",
       "      <td>Brian Friedrich FCPA FCGA</td>\n",
       "      <td>friedrich &amp; friedrich corporation</td>\n",
       "      <td>55010</td>\n",
       "      <td>[Title:Partner/Associate, AreaofResponsibility...</td>\n",
       "      <td>Partner/ Associate</td>\n",
       "      <td>Management Executive.</td>\n",
       "      <td>(604)452-2223</td>\n",
       "      <td></td>\n",
       "      <td>friedrich@friedrich.ca</td>\n",
       "    </tr>\n",
       "    <tr>\n",
       "      <th>28785</th>\n",
       "      <td>Laura Friedrich FCPA FCGA</td>\n",
       "      <td>friedrich &amp; friedrich corporation</td>\n",
       "      <td>55010</td>\n",
       "      <td>[Title:Partner/Associate, AreaofResponsibility...</td>\n",
       "      <td>Partner/ Associate</td>\n",
       "      <td>Management Executive.</td>\n",
       "      <td>(604)452-2223</td>\n",
       "      <td></td>\n",
       "      <td>friedrich@friedrich.ca</td>\n",
       "    </tr>\n",
       "  </tbody>\n",
       "</table>\n",
       "</div>"
      ],
      "text/plain": [
       "                       cont_name                       comp_op_name comp_ID  \\\n",
       "28784  Brian Friedrich FCPA FCGA  friedrich & friedrich corporation   55010   \n",
       "28785  Laura Friedrich FCPA FCGA  friedrich & friedrich corporation   55010   \n",
       "\n",
       "                                                cont_det               title  \\\n",
       "28784  [Title:Partner/Associate, AreaofResponsibility...  Partner/ Associate   \n",
       "28785  [Title:Partner/Associate, AreaofResponsibility...  Partner/ Associate   \n",
       "\n",
       "              responsibility            tel ext.                   email  \n",
       "28784  Management Executive.  (604)452-2223       friedrich@friedrich.ca  \n",
       "28785  Management Executive.  (604)452-2223       friedrich@friedrich.ca  "
      ]
     },
     "execution_count": 967,
     "metadata": {},
     "output_type": "execute_result"
    }
   ],
   "source": [
    "cont_info_pd[cont_info_pd.comp_ID == '55010']"
   ]
  },
  {
   "cell_type": "code",
   "execution_count": 969,
   "metadata": {
    "collapsed": true,
    "scrolled": true
   },
   "outputs": [],
   "source": [
    "cont_info_pd = cont_info_pd.sort_values('comp_ID')"
   ]
  },
  {
   "cell_type": "code",
   "execution_count": 981,
   "metadata": {},
   "outputs": [
    {
     "data": {
      "text/html": [
       "<div>\n",
       "<style>\n",
       "    .dataframe thead tr:only-child th {\n",
       "        text-align: right;\n",
       "    }\n",
       "\n",
       "    .dataframe thead th {\n",
       "        text-align: left;\n",
       "    }\n",
       "\n",
       "    .dataframe tbody tr th {\n",
       "        vertical-align: top;\n",
       "    }\n",
       "</style>\n",
       "<table border=\"1\" class=\"dataframe\">\n",
       "  <thead>\n",
       "    <tr style=\"text-align: right;\">\n",
       "      <th></th>\n",
       "      <th>comp_ID</th>\n",
       "      <th>cont_name</th>\n",
       "      <th>comp_op_name</th>\n",
       "      <th>title</th>\n",
       "      <th>responsibility</th>\n",
       "      <th>tel</th>\n",
       "      <th>ext.</th>\n",
       "      <th>email</th>\n",
       "    </tr>\n",
       "  </thead>\n",
       "  <tbody>\n",
       "    <tr>\n",
       "      <th>0</th>\n",
       "      <td>00001</td>\n",
       "      <td>Ramon Aguilera</td>\n",
       "      <td>Agrideria</td>\n",
       "      <td>Chief Executive Officer</td>\n",
       "      <td>Administrative Services.</td>\n",
       "      <td>(403)240-2400</td>\n",
       "      <td></td>\n",
       "      <td>info@agrideriaindustrial.com</td>\n",
       "    </tr>\n",
       "    <tr>\n",
       "      <th>1</th>\n",
       "      <td>00003</td>\n",
       "      <td>Dawn Betancourt</td>\n",
       "      <td>Thompsons Limited</td>\n",
       "      <td>President</td>\n",
       "      <td>Government Relations, Management Executive.</td>\n",
       "      <td>(519)676-5411</td>\n",
       "      <td>20405</td>\n",
       "      <td>DBetancourt@ThompsonsLimited.com</td>\n",
       "    </tr>\n",
       "    <tr>\n",
       "      <th>2</th>\n",
       "      <td>00003</td>\n",
       "      <td>Joey Groot</td>\n",
       "      <td>Thompsons Limited</td>\n",
       "      <td>Manager</td>\n",
       "      <td>Manufacturing/ Production/ Operations.</td>\n",
       "      <td>(519)676-5411</td>\n",
       "      <td>20223</td>\n",
       "      <td>RGoldhawk@Thompsonslimited.com</td>\n",
       "    </tr>\n",
       "    <tr>\n",
       "      <th>3</th>\n",
       "      <td>00003</td>\n",
       "      <td>Scott Cottenden</td>\n",
       "      <td>Thompsons Limited</td>\n",
       "      <td>Manager</td>\n",
       "      <td>Export Sales&amp; Marketing.</td>\n",
       "      <td>(519)676-5411</td>\n",
       "      <td>20276</td>\n",
       "      <td>SCottenden@Thompsonslimited.com</td>\n",
       "    </tr>\n",
       "    <tr>\n",
       "      <th>4</th>\n",
       "      <td>00003</td>\n",
       "      <td>Darcy Oliphant</td>\n",
       "      <td>Thompsons Limited</td>\n",
       "      <td>Manager</td>\n",
       "      <td>Management Executive, Domestic Sales&amp; Marketin...</td>\n",
       "      <td>(519)676-5411</td>\n",
       "      <td>20227</td>\n",
       "      <td>DOliphant@thompsonslimited.com</td>\n",
       "    </tr>\n",
       "  </tbody>\n",
       "</table>\n",
       "</div>"
      ],
      "text/plain": [
       "  comp_ID        cont_name       comp_op_name                    title  \\\n",
       "0   00001   Ramon Aguilera          Agrideria  Chief Executive Officer   \n",
       "1   00003  Dawn Betancourt  Thompsons Limited                President   \n",
       "2   00003       Joey Groot  Thompsons Limited                  Manager   \n",
       "3   00003  Scott Cottenden  Thompsons Limited                  Manager   \n",
       "4   00003   Darcy Oliphant  Thompsons Limited                  Manager   \n",
       "\n",
       "                                      responsibility            tel   ext.  \\\n",
       "0                           Administrative Services.  (403)240-2400          \n",
       "1        Government Relations, Management Executive.  (519)676-5411  20405   \n",
       "2             Manufacturing/ Production/ Operations.  (519)676-5411  20223   \n",
       "3                           Export Sales& Marketing.  (519)676-5411  20276   \n",
       "4  Management Executive, Domestic Sales& Marketin...  (519)676-5411  20227   \n",
       "\n",
       "                              email  \n",
       "0      info@agrideriaindustrial.com  \n",
       "1  DBetancourt@ThompsonsLimited.com  \n",
       "2    RGoldhawk@Thompsonslimited.com  \n",
       "3   SCottenden@Thompsonslimited.com  \n",
       "4    DOliphant@thompsonslimited.com  "
      ]
     },
     "execution_count": 981,
     "metadata": {},
     "output_type": "execute_result"
    }
   ],
   "source": [
    "cont_info_pd.head()"
   ]
  },
  {
   "cell_type": "code",
   "execution_count": 977,
   "metadata": {
    "collapsed": true
   },
   "outputs": [],
   "source": [
    "del cont_info_pd['cont_det']"
   ]
  },
  {
   "cell_type": "code",
   "execution_count": 979,
   "metadata": {
    "collapsed": true
   },
   "outputs": [],
   "source": [
    "cont_info_pd = cont_info_pd.set_index('comp_ID')\n",
    "cont_info_pd.to_sql('ic_cont_det', comp_db, if_exists='append')\n",
    "cont_info_pd = cont_info_pd.reset_index()"
   ]
  },
  {
   "cell_type": "markdown",
   "metadata": {},
   "source": [
    "#### iii. Compnay Description"
   ]
  },
  {
   "cell_type": "code",
   "execution_count": 982,
   "metadata": {},
   "outputs": [
    {
     "data": {
      "text/html": [
       "<div>\n",
       "<style>\n",
       "    .dataframe thead tr:only-child th {\n",
       "        text-align: right;\n",
       "    }\n",
       "\n",
       "    .dataframe thead th {\n",
       "        text-align: left;\n",
       "    }\n",
       "\n",
       "    .dataframe tbody tr th {\n",
       "        vertical-align: top;\n",
       "    }\n",
       "</style>\n",
       "<table border=\"1\" class=\"dataframe\">\n",
       "  <thead>\n",
       "    <tr style=\"text-align: right;\">\n",
       "      <th></th>\n",
       "      <th>comp_op_name</th>\n",
       "      <th>comp_ID</th>\n",
       "      <th>comp_prof</th>\n",
       "      <th>descr</th>\n",
       "    </tr>\n",
       "  </thead>\n",
       "  <tbody>\n",
       "    <tr>\n",
       "      <th>0</th>\n",
       "      <td>Agrideria</td>\n",
       "      <td>00001</td>\n",
       "      <td>\\nCompany Profile\\n            AGRIDERIA INDUS...</td>\n",
       "      <td>[CountryofOwnership:Foreign, YearEstablished:2...</td>\n",
       "    </tr>\n",
       "    <tr>\n",
       "      <th>1</th>\n",
       "      <td>Everyones Test Company (Leave in Tank) Operating</td>\n",
       "      <td>46106</td>\n",
       "      <td>\\nCompany Profile\\n            This is not a r...</td>\n",
       "      <td>[CountryofOwnership:Canada, YearEstablished:19...</td>\n",
       "    </tr>\n",
       "    <tr>\n",
       "      <th>2</th>\n",
       "      <td>Thompsons Limited</td>\n",
       "      <td>00003</td>\n",
       "      <td>\\nCompany Profile\\n            - Commodity han...</td>\n",
       "      <td>[CountryofOwnership:Foreign, YearEstablished:1...</td>\n",
       "    </tr>\n",
       "    <tr>\n",
       "      <th>3</th>\n",
       "      <td>Belle Pulses Ltd.</td>\n",
       "      <td>00004</td>\n",
       "      <td>\\n</td>\n",
       "      <td>[CountryofOwnership:Canada, Exporting:Yes, Pri...</td>\n",
       "    </tr>\n",
       "    <tr>\n",
       "      <th>4</th>\n",
       "      <td>John Boy Farms</td>\n",
       "      <td>34806</td>\n",
       "      <td>\\nCompany Profile\\n            John Boy Farms ...</td>\n",
       "      <td>[Exporting:No, PrimaryIndustry(NAICS):111219-O...</td>\n",
       "    </tr>\n",
       "  </tbody>\n",
       "</table>\n",
       "</div>"
      ],
      "text/plain": [
       "                                       comp_op_name comp_ID  \\\n",
       "0                                         Agrideria   00001   \n",
       "1  Everyones Test Company (Leave in Tank) Operating   46106   \n",
       "2                                 Thompsons Limited   00003   \n",
       "3                                 Belle Pulses Ltd.   00004   \n",
       "4                                    John Boy Farms   34806   \n",
       "\n",
       "                                           comp_prof  \\\n",
       "0  \\nCompany Profile\\n            AGRIDERIA INDUS...   \n",
       "1  \\nCompany Profile\\n            This is not a r...   \n",
       "2  \\nCompany Profile\\n            - Commodity han...   \n",
       "3                                                 \\n   \n",
       "4  \\nCompany Profile\\n            John Boy Farms ...   \n",
       "\n",
       "                                               descr  \n",
       "0  [CountryofOwnership:Foreign, YearEstablished:2...  \n",
       "1  [CountryofOwnership:Canada, YearEstablished:19...  \n",
       "2  [CountryofOwnership:Foreign, YearEstablished:1...  \n",
       "3  [CountryofOwnership:Canada, Exporting:Yes, Pri...  \n",
       "4  [Exporting:No, PrimaryIndustry(NAICS):111219-O...  "
      ]
     },
     "execution_count": 982,
     "metadata": {},
     "output_type": "execute_result"
    }
   ],
   "source": [
    "comp_descr_pd.head()"
   ]
  },
  {
   "cell_type": "code",
   "execution_count": 983,
   "metadata": {
    "collapsed": true
   },
   "outputs": [],
   "source": [
    "comp_descr_pd['comp_prof'] = comp_descr_pd['comp_prof'].str.split()\n",
    "comp_descr_pd['comp_prof'] = comp_descr_pd['comp_prof'].apply(lambda x: ' '.join(x))\n",
    "comp_descr_pd['comp_prof'] = comp_descr_pd['comp_prof'].str.slice(15,)\n",
    "comp_descr_pd['country_of_ownership'] = comp_descr_pd['descr'].apply(sep, heading ='CountryofOwnership:')\n",
    "comp_descr_pd['exporting'] = comp_descr_pd['descr'].apply(sep, heading ='Exporting:')\n",
    "comp_descr_pd['year_estab'] = comp_descr_pd['descr'].apply(sep, heading ='YearEstablished:')\n",
    "comp_descr_pd['primary_NAICS'] = comp_descr_pd['descr'].apply(sep, heading ='PrimaryIndustry(NAICS):')\n",
    "comp_descr_pd['alt_NAICS'] = comp_descr_pd['descr'].apply(sep, heading ='AlternateIndustries(NAICS):')\n",
    "comp_descr_pd['prim_bus_activity'] = comp_descr_pd['descr'].apply(sep, heading ='PrimaryBusinessActivity:')\n",
    "comp_descr_pd['tot_sales'] = comp_descr_pd['descr'].apply(sep, heading ='TotalSales($CDN):')\n",
    "comp_descr_pd['num_employees'] = comp_descr_pd['descr'].apply(sep, heading ='NumberofEmployees:')\n",
    "\n",
    "#del comp_descr_pd['descr']"
   ]
  },
  {
   "cell_type": "code",
   "execution_count": 984,
   "metadata": {
    "collapsed": true
   },
   "outputs": [],
   "source": [
    "comp_descr_pd['prim_NAICS'] = comp_descr_pd['primary_NAICS'].apply(lambda x: re.findall('\\d+',x))\n",
    "comp_descr_pd['prim_NAICS'] = comp_descr_pd['prim_NAICS'].apply(lambda x: ' '.join(x))\n",
    "comp_descr_pd['prim_NAICS_sec'] = comp_descr_pd['primary_NAICS'].apply(lambda x: re.findall('[A-Z][^A-Z]*',x))\n",
    "comp_descr_pd['prim_NAICS_sec'] = comp_descr_pd['prim_NAICS_sec'].apply(lambda x: ' '.join(x))\n",
    "comp_descr_pd['alte_NAICS'] = comp_descr_pd['alt_NAICS'].apply(lambda x: re.findall('\\d+',x))\n",
    "comp_descr_pd['alte_NAICS'] = comp_descr_pd['alte_NAICS'].apply(lambda x: ' '.join(x))\n",
    "#comp_descr_pd['alte_NAICS_sec'] = comp_descr_pd['alt_NAICS'].apply(lambda x: re.findall('\\D+',x))comp_descr_pd['alte_NAICS_sec'] = comp_descr_pd['alte_NAICS_sec'].apply(lambda x: ' '.join(x))\n",
    "comp_descr_pd['prim_bus_activity'] = comp_descr_pd['prim_bus_activity'].apply(lambda x: re.findall('[A-Z][^A-Z]*',x))\n",
    "comp_descr_pd['prim_bus_activity'] = comp_descr_pd['prim_bus_activity'].apply(lambda x: ' '.join(x))\n",
    "\n",
    "#del comp_descr_pd['primary_NAICS']\n",
    "#del comp_descr_pd['alt_NAICS']"
   ]
  },
  {
   "cell_type": "code",
   "execution_count": 991,
   "metadata": {},
   "outputs": [
    {
     "data": {
      "text/html": [
       "<div>\n",
       "<style>\n",
       "    .dataframe thead tr:only-child th {\n",
       "        text-align: right;\n",
       "    }\n",
       "\n",
       "    .dataframe thead th {\n",
       "        text-align: left;\n",
       "    }\n",
       "\n",
       "    .dataframe tbody tr th {\n",
       "        vertical-align: top;\n",
       "    }\n",
       "</style>\n",
       "<table border=\"1\" class=\"dataframe\">\n",
       "  <thead>\n",
       "    <tr style=\"text-align: right;\">\n",
       "      <th></th>\n",
       "      <th>comp_op_name</th>\n",
       "      <th>comp_ID</th>\n",
       "      <th>comp_prof</th>\n",
       "      <th>descr</th>\n",
       "      <th>country_of_ownership</th>\n",
       "      <th>exporting</th>\n",
       "      <th>year_estab</th>\n",
       "      <th>primary_NAICS</th>\n",
       "      <th>alt_NAICS</th>\n",
       "      <th>prim_bus_activity</th>\n",
       "      <th>tot_sales</th>\n",
       "      <th>num_employees</th>\n",
       "      <th>prim_NAICS</th>\n",
       "      <th>prim_NAICS_sec</th>\n",
       "      <th>alte_NAICS</th>\n",
       "    </tr>\n",
       "  </thead>\n",
       "  <tbody>\n",
       "    <tr>\n",
       "      <th>0</th>\n",
       "      <td>Agrideria</td>\n",
       "      <td>00001</td>\n",
       "      <td>AGRIDERIA INDUSTRIAL IS AN INTERNATIONAL PROD...</td>\n",
       "      <td>[CountryofOwnership:Foreign, YearEstablished:2...</td>\n",
       "      <td>Foreign</td>\n",
       "      <td>Yes</td>\n",
       "      <td>2005</td>\n",
       "      <td>111110-SoybeanFarming</td>\n",
       "      <td>111150-CornFarming111999-AllOtherMiscellaneous...</td>\n",
       "      <td>Manufacturer/ Processor/ Producer</td>\n",
       "      <td>$50,000,000+</td>\n",
       "      <td>32</td>\n",
       "      <td>111110</td>\n",
       "      <td>Soybean Farming</td>\n",
       "      <td>111150 111999</td>\n",
       "    </tr>\n",
       "    <tr>\n",
       "      <th>1</th>\n",
       "      <td>Everyones Test Company (Leave in Tank) Operating</td>\n",
       "      <td>46106</td>\n",
       "      <td>This is not a real company. Do not contact. D...</td>\n",
       "      <td>[CountryofOwnership:Canada, YearEstablished:19...</td>\n",
       "      <td>Canada</td>\n",
       "      <td>Yes</td>\n",
       "      <td>1996</td>\n",
       "      <td>311111-DogandCatFoodManufacturing</td>\n",
       "      <td>111110-SoybeanFarming313320-FabricCoating33221...</td>\n",
       "      <td>Manufacturer/ Processor/ Producer</td>\n",
       "      <td>$50,000,000+</td>\n",
       "      <td>100</td>\n",
       "      <td>311111</td>\n",
       "      <td>Dogand Cat Food Manufacturing</td>\n",
       "      <td>111110 313320 332210 541510</td>\n",
       "    </tr>\n",
       "    <tr>\n",
       "      <th>2</th>\n",
       "      <td>Thompsons Limited</td>\n",
       "      <td>00003</td>\n",
       "      <td>- Commodity handling &amp; processing, Oilseeds (...</td>\n",
       "      <td>[CountryofOwnership:Foreign, YearEstablished:1...</td>\n",
       "      <td>Foreign</td>\n",
       "      <td>Yes</td>\n",
       "      <td>1924</td>\n",
       "      <td>115110-SupportActivitiesforCropProduction</td>\n",
       "      <td>111110-SoybeanFarming411120-OilseedandGrainWho...</td>\n",
       "      <td>Manufacturer/ Processor/ Producer</td>\n",
       "      <td>$50,000,000+</td>\n",
       "      <td>250</td>\n",
       "      <td>115110</td>\n",
       "      <td>Support Activitiesfor Crop Production</td>\n",
       "      <td>111110 411120 418320</td>\n",
       "    </tr>\n",
       "    <tr>\n",
       "      <th>3</th>\n",
       "      <td>Belle Pulses Ltd.</td>\n",
       "      <td>00004</td>\n",
       "      <td></td>\n",
       "      <td>[CountryofOwnership:Canada, Exporting:Yes, Pri...</td>\n",
       "      <td>Canada</td>\n",
       "      <td>Yes</td>\n",
       "      <td></td>\n",
       "      <td>111130-DryPeaandBeanFarming</td>\n",
       "      <td>311211-FlourMilling</td>\n",
       "      <td>Manufacturer/ Processor/ Producer</td>\n",
       "      <td></td>\n",
       "      <td></td>\n",
       "      <td>111130</td>\n",
       "      <td>Dry Peaand Bean Farming</td>\n",
       "      <td>311211</td>\n",
       "    </tr>\n",
       "    <tr>\n",
       "      <th>4</th>\n",
       "      <td>John Boy Farms</td>\n",
       "      <td>34806</td>\n",
       "      <td>John Boy Farms is an agricultural operation g...</td>\n",
       "      <td>[Exporting:No, PrimaryIndustry(NAICS):111219-O...</td>\n",
       "      <td></td>\n",
       "      <td>No</td>\n",
       "      <td></td>\n",
       "      <td>111219-OtherVegetable(exceptPotato)andMelonFar...</td>\n",
       "      <td>454111-InternetShopping</td>\n",
       "      <td>Manufacturer/ Processor/ Producer</td>\n",
       "      <td></td>\n",
       "      <td></td>\n",
       "      <td>111219</td>\n",
       "      <td>Other Vegetable(except Potato)and Melon Farming</td>\n",
       "      <td>454111</td>\n",
       "    </tr>\n",
       "  </tbody>\n",
       "</table>\n",
       "</div>"
      ],
      "text/plain": [
       "                                       comp_op_name comp_ID  \\\n",
       "0                                         Agrideria   00001   \n",
       "1  Everyones Test Company (Leave in Tank) Operating   46106   \n",
       "2                                 Thompsons Limited   00003   \n",
       "3                                 Belle Pulses Ltd.   00004   \n",
       "4                                    John Boy Farms   34806   \n",
       "\n",
       "                                           comp_prof  \\\n",
       "0   AGRIDERIA INDUSTRIAL IS AN INTERNATIONAL PROD...   \n",
       "1   This is not a real company. Do not contact. D...   \n",
       "2   - Commodity handling & processing, Oilseeds (...   \n",
       "3                                                      \n",
       "4   John Boy Farms is an agricultural operation g...   \n",
       "\n",
       "                                               descr country_of_ownership  \\\n",
       "0  [CountryofOwnership:Foreign, YearEstablished:2...              Foreign   \n",
       "1  [CountryofOwnership:Canada, YearEstablished:19...               Canada   \n",
       "2  [CountryofOwnership:Foreign, YearEstablished:1...              Foreign   \n",
       "3  [CountryofOwnership:Canada, Exporting:Yes, Pri...               Canada   \n",
       "4  [Exporting:No, PrimaryIndustry(NAICS):111219-O...                        \n",
       "\n",
       "  exporting year_estab                                      primary_NAICS  \\\n",
       "0       Yes       2005                              111110-SoybeanFarming   \n",
       "1       Yes       1996                  311111-DogandCatFoodManufacturing   \n",
       "2       Yes       1924          115110-SupportActivitiesforCropProduction   \n",
       "3       Yes                                   111130-DryPeaandBeanFarming   \n",
       "4        No             111219-OtherVegetable(exceptPotato)andMelonFar...   \n",
       "\n",
       "                                           alt_NAICS  \\\n",
       "0  111150-CornFarming111999-AllOtherMiscellaneous...   \n",
       "1  111110-SoybeanFarming313320-FabricCoating33221...   \n",
       "2  111110-SoybeanFarming411120-OilseedandGrainWho...   \n",
       "3                                311211-FlourMilling   \n",
       "4                            454111-InternetShopping   \n",
       "\n",
       "                   prim_bus_activity     tot_sales num_employees prim_NAICS  \\\n",
       "0  Manufacturer/ Processor/ Producer  $50,000,000+            32     111110   \n",
       "1  Manufacturer/ Processor/ Producer  $50,000,000+           100     311111   \n",
       "2  Manufacturer/ Processor/ Producer  $50,000,000+           250     115110   \n",
       "3  Manufacturer/ Processor/ Producer                                 111130   \n",
       "4  Manufacturer/ Processor/ Producer                                 111219   \n",
       "\n",
       "                                    prim_NAICS_sec  \\\n",
       "0                                  Soybean Farming   \n",
       "1                    Dogand Cat Food Manufacturing   \n",
       "2            Support Activitiesfor Crop Production   \n",
       "3                          Dry Peaand Bean Farming   \n",
       "4  Other Vegetable(except Potato)and Melon Farming   \n",
       "\n",
       "                    alte_NAICS  \n",
       "0                111150 111999  \n",
       "1  111110 313320 332210 541510  \n",
       "2         111110 411120 418320  \n",
       "3                       311211  \n",
       "4                       454111  "
      ]
     },
     "execution_count": 991,
     "metadata": {},
     "output_type": "execute_result"
    }
   ],
   "source": [
    "comp_descr_pd.head()"
   ]
  },
  {
   "cell_type": "code",
   "execution_count": 988,
   "metadata": {
    "collapsed": true
   },
   "outputs": [],
   "source": [
    "comp_descr_pd[comp_descr_pd.comp_op_name == '']\n",
    "comp_descr_pd = comp_descr_pd[comp_descr_pd.comp_op_name != '']  "
   ]
  },
  {
   "cell_type": "code",
   "execution_count": 1478,
   "metadata": {},
   "outputs": [
    {
     "data": {
      "text/plain": [
       "(46874, 12)"
      ]
     },
     "execution_count": 1478,
     "metadata": {},
     "output_type": "execute_result"
    }
   ],
   "source": [
    "comp_descr_pd.shape"
   ]
  },
  {
   "cell_type": "code",
   "execution_count": 992,
   "metadata": {
    "collapsed": true
   },
   "outputs": [],
   "source": [
    "del comp_descr_pd['descr']\n",
    "del comp_descr_pd['primary_NAICS']\n",
    "del comp_descr_pd['alt_NAICS']"
   ]
  },
  {
   "cell_type": "code",
   "execution_count": 1482,
   "metadata": {},
   "outputs": [
    {
     "data": {
      "text/html": [
       "<div>\n",
       "<style>\n",
       "    .dataframe thead tr:only-child th {\n",
       "        text-align: right;\n",
       "    }\n",
       "\n",
       "    .dataframe thead th {\n",
       "        text-align: left;\n",
       "    }\n",
       "\n",
       "    .dataframe tbody tr th {\n",
       "        vertical-align: top;\n",
       "    }\n",
       "</style>\n",
       "<table border=\"1\" class=\"dataframe\">\n",
       "  <thead>\n",
       "    <tr style=\"text-align: right;\">\n",
       "      <th></th>\n",
       "      <th>comp_ID</th>\n",
       "      <th>comp_op_name</th>\n",
       "      <th>comp_prof</th>\n",
       "      <th>country_of_ownership</th>\n",
       "      <th>exporting</th>\n",
       "      <th>year_estab</th>\n",
       "      <th>prim_bus_activity</th>\n",
       "      <th>tot_sales</th>\n",
       "      <th>num_employees</th>\n",
       "      <th>prim_NAICS</th>\n",
       "      <th>prim_NAICS_sec</th>\n",
       "      <th>alte_NAICS</th>\n",
       "    </tr>\n",
       "  </thead>\n",
       "  <tbody>\n",
       "    <tr>\n",
       "      <th>0</th>\n",
       "      <td>00001</td>\n",
       "      <td>Agrideria</td>\n",
       "      <td>AGRIDERIA INDUSTRIAL IS AN INTERNATIONAL PROD...</td>\n",
       "      <td>Foreign</td>\n",
       "      <td>Yes</td>\n",
       "      <td>2005</td>\n",
       "      <td>Manufacturer/ Processor/ Producer</td>\n",
       "      <td>$50,000,000+</td>\n",
       "      <td>32</td>\n",
       "      <td>111110</td>\n",
       "      <td>Soybean Farming</td>\n",
       "      <td>111150 111999</td>\n",
       "    </tr>\n",
       "    <tr>\n",
       "      <th>1</th>\n",
       "      <td>00003</td>\n",
       "      <td>Thompsons Limited</td>\n",
       "      <td>- Commodity handling &amp; processing, Oilseeds (...</td>\n",
       "      <td>Foreign</td>\n",
       "      <td>Yes</td>\n",
       "      <td>1924</td>\n",
       "      <td>Manufacturer/ Processor/ Producer</td>\n",
       "      <td>$50,000,000+</td>\n",
       "      <td>250</td>\n",
       "      <td>115110</td>\n",
       "      <td>Support Activitiesfor Crop Production</td>\n",
       "      <td>111110 411120 418320</td>\n",
       "    </tr>\n",
       "    <tr>\n",
       "      <th>2</th>\n",
       "      <td>00004</td>\n",
       "      <td>Belle Pulses Ltd.</td>\n",
       "      <td></td>\n",
       "      <td>Canada</td>\n",
       "      <td>Yes</td>\n",
       "      <td></td>\n",
       "      <td>Manufacturer/ Processor/ Producer</td>\n",
       "      <td></td>\n",
       "      <td></td>\n",
       "      <td>111130</td>\n",
       "      <td>Dry Peaand Bean Farming</td>\n",
       "      <td>311211</td>\n",
       "    </tr>\n",
       "    <tr>\n",
       "      <th>3</th>\n",
       "      <td>00007</td>\n",
       "      <td>SunSelect Produce</td>\n",
       "      <td>At SunSelect, we take our responsibility to o...</td>\n",
       "      <td>Canada</td>\n",
       "      <td>Yes</td>\n",
       "      <td>1985</td>\n",
       "      <td>Manufacturer/ Processor/ Producer</td>\n",
       "      <td></td>\n",
       "      <td>350</td>\n",
       "      <td>111419</td>\n",
       "      <td>Other Food Crops Grown Under Cover</td>\n",
       "      <td>111219</td>\n",
       "    </tr>\n",
       "    <tr>\n",
       "      <th>4</th>\n",
       "      <td>00009</td>\n",
       "      <td>Funk's Blueberries</td>\n",
       "      <td>Cultivate blueberries</td>\n",
       "      <td></td>\n",
       "      <td>No</td>\n",
       "      <td></td>\n",
       "      <td>Manufacturer/ Processor/ Producer</td>\n",
       "      <td></td>\n",
       "      <td></td>\n",
       "      <td>111330</td>\n",
       "      <td>Non- Citrus Fruitand Tree Nut Farming</td>\n",
       "      <td></td>\n",
       "    </tr>\n",
       "  </tbody>\n",
       "</table>\n",
       "</div>"
      ],
      "text/plain": [
       "  comp_ID        comp_op_name  \\\n",
       "0   00001           Agrideria   \n",
       "1   00003   Thompsons Limited   \n",
       "2   00004   Belle Pulses Ltd.   \n",
       "3   00007   SunSelect Produce   \n",
       "4   00009  Funk's Blueberries   \n",
       "\n",
       "                                           comp_prof country_of_ownership  \\\n",
       "0   AGRIDERIA INDUSTRIAL IS AN INTERNATIONAL PROD...              Foreign   \n",
       "1   - Commodity handling & processing, Oilseeds (...              Foreign   \n",
       "2                                                                  Canada   \n",
       "3   At SunSelect, we take our responsibility to o...               Canada   \n",
       "4                              Cultivate blueberries                        \n",
       "\n",
       "  exporting year_estab                  prim_bus_activity     tot_sales  \\\n",
       "0       Yes       2005  Manufacturer/ Processor/ Producer  $50,000,000+   \n",
       "1       Yes       1924  Manufacturer/ Processor/ Producer  $50,000,000+   \n",
       "2       Yes             Manufacturer/ Processor/ Producer                 \n",
       "3       Yes       1985  Manufacturer/ Processor/ Producer                 \n",
       "4        No             Manufacturer/ Processor/ Producer                 \n",
       "\n",
       "  num_employees prim_NAICS                         prim_NAICS_sec  \\\n",
       "0            32     111110                        Soybean Farming   \n",
       "1           250     115110  Support Activitiesfor Crop Production   \n",
       "2                   111130                Dry Peaand Bean Farming   \n",
       "3           350     111419     Other Food Crops Grown Under Cover   \n",
       "4                   111330  Non- Citrus Fruitand Tree Nut Farming   \n",
       "\n",
       "             alte_NAICS  \n",
       "0         111150 111999  \n",
       "1  111110 411120 418320  \n",
       "2                311211  \n",
       "3                111219  \n",
       "4                        "
      ]
     },
     "execution_count": 1482,
     "metadata": {},
     "output_type": "execute_result"
    }
   ],
   "source": [
    "comp_descr_pd.head()"
   ]
  },
  {
   "cell_type": "code",
   "execution_count": null,
   "metadata": {
    "collapsed": true
   },
   "outputs": [],
   "source": [
    "comp_descr = comp_descr[comp_descr.comp_ID != '46106']\n",
    "comp_descr = comp_descr.reset_index()\n",
    "del comp_descr['index']"
   ]
  },
  {
   "cell_type": "code",
   "execution_count": null,
   "metadata": {
    "collapsed": true
   },
   "outputs": [],
   "source": [
    "comp_descr['alte_NAICS'] = comp_descr['alte_NAICS'].str.split() "
   ]
  },
  {
   "cell_type": "code",
   "execution_count": null,
   "metadata": {
    "collapsed": true
   },
   "outputs": [],
   "source": [
    "comp=comp_descr.comp_ID.unique()\n",
    "common_ = {}\n",
    "for i, comp1 in enumerate(comp):\n",
    "    name = comp_descr[comp_descr.comp_ID == comp1].comp_op_name.max()\n",
    "    l = []\n",
    "    for j, comp2 in enumerate(comp):\n",
    "        if  i != j:\n",
    "            a = comp_descr.alte_NAICS[i]\n",
    "            b = comp_descr.alte_NAICS[j]\n",
    "        c = set(a).intersection(set(b))\n",
    "        if c != set():\n",
    "            c = list(c)\n",
    "            for y in c:\n",
    "                l.append(y)\n",
    "    \n",
    "    l = set(l)\n",
    "    l = list(l)\n",
    "    common_[comp1] = name, l"
   ]
  },
  {
   "cell_type": "code",
   "execution_count": null,
   "metadata": {
    "collapsed": true
   },
   "outputs": [],
   "source": [
    "com_pd = pd.DataFrame.from_dict(common_).T.reset_index()\n",
    "com_pd.columns = ['comp_ID','comp_op_name', 'comm_NAICS']"
   ]
  },
  {
   "cell_type": "code",
   "execution_count": null,
   "metadata": {
    "collapsed": true
   },
   "outputs": [],
   "source": [
    "a = com_pd['comm_NAICS']\n",
    "comp_descr_pd = comp_descr_pd.join(a)"
   ]
  },
  {
   "cell_type": "code",
   "execution_count": null,
   "metadata": {
    "collapsed": true
   },
   "outputs": [],
   "source": [
    "comp_descr_pd['alte_NAICS'] = comp_descr_pd['alte_NAICS'].apply(lambda x: ' '.join(x))\n",
    "comp_descr_pd['comm_NAICS'] = comp_descr_pd['comm_NAICS'].apply(lambda x: ' '.join(x))"
   ]
  },
  {
   "cell_type": "code",
   "execution_count": null,
   "metadata": {
    "collapsed": true
   },
   "outputs": [],
   "source": [
    "comp_descr_pd.ix[comp_descr.comm_NAICS == '', 'comm_NAICS'] = comp_descr_pd.ix[comp_descr.comm_NAICS == '', 'alte_NAICS']"
   ]
  },
  {
   "cell_type": "code",
   "execution_count": 1480,
   "metadata": {
    "collapsed": true
   },
   "outputs": [],
   "source": [
    "comp_descr_pd = comp_descr_pd.sort_values('comp_ID')\n",
    "comp_descr_pd = comp_descr_pd.set_index('comp_ID')\n",
    "comp_descr_pd.to_sql('ic_comp_descr', comp_db, if_exists='replace')\n",
    "comp_descr_pd = comp_descr_pd.reset_index()"
   ]
  },
  {
   "cell_type": "markdown",
   "metadata": {},
   "source": [
    "#### iv. Company Product/Service Offered"
   ]
  },
  {
   "cell_type": "code",
   "execution_count": 30,
   "metadata": {
    "collapsed": true
   },
   "outputs": [],
   "source": [
    "comp_prod_pd = pd.DataFrame.from_dict(comp_prod, orient='index').reset_index()\n",
    "comp_prod_pd.columns = ['comp_op_name','comp_ID','prod_name']"
   ]
  },
  {
   "cell_type": "code",
   "execution_count": 31,
   "metadata": {
    "scrolled": true
   },
   "outputs": [
    {
     "data": {
      "text/html": [
       "<div>\n",
       "<style>\n",
       "    .dataframe thead tr:only-child th {\n",
       "        text-align: right;\n",
       "    }\n",
       "\n",
       "    .dataframe thead th {\n",
       "        text-align: left;\n",
       "    }\n",
       "\n",
       "    .dataframe tbody tr th {\n",
       "        vertical-align: top;\n",
       "    }\n",
       "</style>\n",
       "<table border=\"1\" class=\"dataframe\">\n",
       "  <thead>\n",
       "    <tr style=\"text-align: right;\">\n",
       "      <th></th>\n",
       "      <th>comp_op_name</th>\n",
       "      <th>comp_ID</th>\n",
       "      <th>prod_name</th>\n",
       "    </tr>\n",
       "  </thead>\n",
       "  <tbody>\n",
       "    <tr>\n",
       "      <th>0</th>\n",
       "      <td>Agrideria</td>\n",
       "      <td>00001</td>\n",
       "      <td>[YELLOW CORN (MAIZE), YELLOW CORN (MAIZE) FOR ...</td>\n",
       "    </tr>\n",
       "    <tr>\n",
       "      <th>1</th>\n",
       "      <td>Everyones Test Company (Leave in Tank) Operating</td>\n",
       "      <td>46106</td>\n",
       "      <td>[Product Name - Exported - No Desc. - No Fr., ...</td>\n",
       "    </tr>\n",
       "    <tr>\n",
       "      <th>2</th>\n",
       "      <td>Thompsons Limited</td>\n",
       "      <td>00003</td>\n",
       "      <td>[BARLEY, CHOPPED, CRUSHED OR GROUND /FEED/, WH...</td>\n",
       "    </tr>\n",
       "    <tr>\n",
       "      <th>3</th>\n",
       "      <td>Belle Pulses Ltd.</td>\n",
       "      <td>00004</td>\n",
       "      <td>[Pulse products misc., Yellow &amp; Green Split Pe...</td>\n",
       "    </tr>\n",
       "    <tr>\n",
       "      <th>4</th>\n",
       "      <td>John Boy Farms</td>\n",
       "      <td>34806</td>\n",
       "      <td>[Garlic, Fresh garlic for table consumption an...</td>\n",
       "    </tr>\n",
       "  </tbody>\n",
       "</table>\n",
       "</div>"
      ],
      "text/plain": [
       "                                       comp_op_name comp_ID  \\\n",
       "0                                         Agrideria   00001   \n",
       "1  Everyones Test Company (Leave in Tank) Operating   46106   \n",
       "2                                 Thompsons Limited   00003   \n",
       "3                                 Belle Pulses Ltd.   00004   \n",
       "4                                    John Boy Farms   34806   \n",
       "\n",
       "                                           prod_name  \n",
       "0  [YELLOW CORN (MAIZE), YELLOW CORN (MAIZE) FOR ...  \n",
       "1  [Product Name - Exported - No Desc. - No Fr., ...  \n",
       "2  [BARLEY, CHOPPED, CRUSHED OR GROUND /FEED/, WH...  \n",
       "3  [Pulse products misc., Yellow & Green Split Pe...  \n",
       "4  [Garlic, Fresh garlic for table consumption an...  "
      ]
     },
     "execution_count": 31,
     "metadata": {},
     "output_type": "execute_result"
    }
   ],
   "source": [
    "comp_prod_pd.head()"
   ]
  },
  {
   "cell_type": "code",
   "execution_count": 56,
   "metadata": {},
   "outputs": [
    {
     "data": {
      "text/plain": [
       "'miscellaneous items absorbents granular absorbents industrial rugs pads rolls socks specialty products spill clean products spill kits accessories hand held spill kits mobile spill kits drum spill kits stationary spill kits spill kit accessories secondary containment indoor drum storage indoor ibc storage stormwater management outdoor containment flammable liquid storage safety containers cabinets safety cabinets safety cans drum accessories drums overpacks skimmers filtration equipment belt skimmer disc skimmer skimmer parts filter bags media tube skimmer green products secondary containment fluid leak prevention air gas leak prevention miscellaneous items includes items goods cannot conceivably classified existing classes'"
      ]
     },
     "execution_count": 56,
     "metadata": {},
     "output_type": "execute_result"
    }
   ],
   "source": [
    "comp_prod_pd[comp_prod_pd.comp_op_name == 'Quatrex environment Inc'].prod_name.max()"
   ]
  },
  {
   "cell_type": "code",
   "execution_count": 36,
   "metadata": {},
   "outputs": [
    {
     "data": {
      "text/plain": [
       "(46875, 3)"
      ]
     },
     "execution_count": 36,
     "metadata": {},
     "output_type": "execute_result"
    }
   ],
   "source": [
    "comp_prod_pd.shape"
   ]
  },
  {
   "cell_type": "code",
   "execution_count": 37,
   "metadata": {
    "collapsed": true
   },
   "outputs": [],
   "source": [
    "comp_prod_pd[comp_prod_pd.comp_op_name == '']\n",
    "comp_prod_pd = comp_prod_pd[comp_prod_pd.comp_op_name != '']  "
   ]
  },
  {
   "cell_type": "code",
   "execution_count": 38,
   "metadata": {},
   "outputs": [
    {
     "data": {
      "text/plain": [
       "comp_op_name     Everyones Test Company (Leave in Tank) Operating\n",
       "comp_ID                                                     46106\n",
       "prod_name       [Product Name - Exported - No Desc. - No Fr., ...\n",
       "Name: 1, dtype: object"
      ]
     },
     "execution_count": 38,
     "metadata": {},
     "output_type": "execute_result"
    }
   ],
   "source": [
    "comp_prod_pd.iloc[1]"
   ]
  },
  {
   "cell_type": "code",
   "execution_count": 57,
   "metadata": {},
   "outputs": [
    {
     "data": {
      "text/html": [
       "<div>\n",
       "<style>\n",
       "    .dataframe thead tr:only-child th {\n",
       "        text-align: right;\n",
       "    }\n",
       "\n",
       "    .dataframe thead th {\n",
       "        text-align: left;\n",
       "    }\n",
       "\n",
       "    .dataframe tbody tr th {\n",
       "        vertical-align: top;\n",
       "    }\n",
       "</style>\n",
       "<table border=\"1\" class=\"dataframe\">\n",
       "  <thead>\n",
       "    <tr style=\"text-align: right;\">\n",
       "      <th></th>\n",
       "      <th>comp_op_name</th>\n",
       "      <th>comp_ID</th>\n",
       "      <th>prod_name</th>\n",
       "    </tr>\n",
       "  </thead>\n",
       "  <tbody>\n",
       "    <tr>\n",
       "      <th>0</th>\n",
       "      <td>Agrideria</td>\n",
       "      <td>00001</td>\n",
       "      <td>yellow corn maize yellow corn maize human cons...</td>\n",
       "    </tr>\n",
       "    <tr>\n",
       "      <th>1</th>\n",
       "      <td>Thompsons Limited</td>\n",
       "      <td>00003</td>\n",
       "      <td>barley chopped crushed ground feed wheat seed ...</td>\n",
       "    </tr>\n",
       "    <tr>\n",
       "      <th>2</th>\n",
       "      <td>Belle Pulses Ltd.</td>\n",
       "      <td>00004</td>\n",
       "      <td>pulse products misc yellow green split peas pe...</td>\n",
       "    </tr>\n",
       "    <tr>\n",
       "      <th>3</th>\n",
       "      <td>John Boy Farms</td>\n",
       "      <td>34806</td>\n",
       "      <td>garlic fresh garlic table consumption premium ...</td>\n",
       "    </tr>\n",
       "    <tr>\n",
       "      <th>4</th>\n",
       "      <td>Solanum International Inc.</td>\n",
       "      <td>33695</td>\n",
       "      <td>seed potatoes potato varieties table processin...</td>\n",
       "    </tr>\n",
       "  </tbody>\n",
       "</table>\n",
       "</div>"
      ],
      "text/plain": [
       "                 comp_op_name comp_ID  \\\n",
       "0                   Agrideria   00001   \n",
       "1           Thompsons Limited   00003   \n",
       "2           Belle Pulses Ltd.   00004   \n",
       "3              John Boy Farms   34806   \n",
       "4  Solanum International Inc.   33695   \n",
       "\n",
       "                                           prod_name  \n",
       "0  yellow corn maize yellow corn maize human cons...  \n",
       "1  barley chopped crushed ground feed wheat seed ...  \n",
       "2  pulse products misc yellow green split peas pe...  \n",
       "3  garlic fresh garlic table consumption premium ...  \n",
       "4  seed potatoes potato varieties table processin...  "
      ]
     },
     "execution_count": 57,
     "metadata": {},
     "output_type": "execute_result"
    }
   ],
   "source": [
    "comp_prod_pd.head()"
   ]
  },
  {
   "cell_type": "code",
   "execution_count": 41,
   "metadata": {
    "collapsed": true
   },
   "outputs": [],
   "source": [
    "def sep_7(l):\n",
    "    b = []\n",
    "    for i in l:\n",
    "        i = i.lower()\n",
    "        i = re.sub('[^a-zA-Z]+', ' ', i)\n",
    "        b.append(i)\n",
    "    stop_words = set(stopwords.words(\"english\")) \n",
    "    result = [w for w in b if not w in stop_words]\n",
    "    return result"
   ]
  },
  {
   "cell_type": "code",
   "execution_count": 42,
   "metadata": {
    "collapsed": true
   },
   "outputs": [],
   "source": [
    "comp_prod_pd['prod_name'] = comp_prod_pd['prod_name'].apply(sep_7)\n",
    "comp_prod_pd['prod_name'] = comp_prod_pd['prod_name'].apply(lambda x: ' '.join(x))\n",
    "comp_prod_pd['prod_name'] = comp_prod_pd['prod_name'].str.split() \n",
    "comp_prod_pd['prod_name'] = comp_prod_pd['prod_name'].apply(sep_7)"
   ]
  },
  {
   "cell_type": "code",
   "execution_count": 44,
   "metadata": {
    "collapsed": true
   },
   "outputs": [],
   "source": [
    "comp_prod_pd = comp_prod_pd[comp_prod_pd.comp_ID != '46106']\n",
    "comp_prod_pd = comp_prod_pd.reset_index()\n",
    "del comp_prod_pd['index']"
   ]
  },
  {
   "cell_type": "code",
   "execution_count": 63,
   "metadata": {
    "scrolled": true
   },
   "outputs": [
    {
     "data": {
      "text/html": [
       "<div>\n",
       "<style>\n",
       "    .dataframe thead tr:only-child th {\n",
       "        text-align: right;\n",
       "    }\n",
       "\n",
       "    .dataframe thead th {\n",
       "        text-align: left;\n",
       "    }\n",
       "\n",
       "    .dataframe tbody tr th {\n",
       "        vertical-align: top;\n",
       "    }\n",
       "</style>\n",
       "<table border=\"1\" class=\"dataframe\">\n",
       "  <thead>\n",
       "    <tr style=\"text-align: right;\">\n",
       "      <th></th>\n",
       "      <th>comp_op_name</th>\n",
       "      <th>comp_ID</th>\n",
       "      <th>prod_name</th>\n",
       "    </tr>\n",
       "  </thead>\n",
       "  <tbody>\n",
       "    <tr>\n",
       "      <th>0</th>\n",
       "      <td>Agrideria</td>\n",
       "      <td>00001</td>\n",
       "      <td>yellow corn maize yellow corn maize human cons...</td>\n",
       "    </tr>\n",
       "    <tr>\n",
       "      <th>1</th>\n",
       "      <td>Thompsons Limited</td>\n",
       "      <td>00003</td>\n",
       "      <td>barley chopped crushed ground feed wheat seed ...</td>\n",
       "    </tr>\n",
       "    <tr>\n",
       "      <th>2</th>\n",
       "      <td>Belle Pulses Ltd.</td>\n",
       "      <td>00004</td>\n",
       "      <td>pulse products misc yellow green split peas pe...</td>\n",
       "    </tr>\n",
       "    <tr>\n",
       "      <th>3</th>\n",
       "      <td>John Boy Farms</td>\n",
       "      <td>34806</td>\n",
       "      <td>garlic fresh garlic table consumption premium ...</td>\n",
       "    </tr>\n",
       "    <tr>\n",
       "      <th>4</th>\n",
       "      <td>Solanum International Inc.</td>\n",
       "      <td>33695</td>\n",
       "      <td>seed potatoes potato varieties table processin...</td>\n",
       "    </tr>\n",
       "  </tbody>\n",
       "</table>\n",
       "</div>"
      ],
      "text/plain": [
       "                 comp_op_name comp_ID  \\\n",
       "0                   Agrideria   00001   \n",
       "1           Thompsons Limited   00003   \n",
       "2           Belle Pulses Ltd.   00004   \n",
       "3              John Boy Farms   34806   \n",
       "4  Solanum International Inc.   33695   \n",
       "\n",
       "                                           prod_name  \n",
       "0  yellow corn maize yellow corn maize human cons...  \n",
       "1  barley chopped crushed ground feed wheat seed ...  \n",
       "2  pulse products misc yellow green split peas pe...  \n",
       "3  garlic fresh garlic table consumption premium ...  \n",
       "4  seed potatoes potato varieties table processin...  "
      ]
     },
     "execution_count": 63,
     "metadata": {},
     "output_type": "execute_result"
    }
   ],
   "source": [
    "comp_prod_pd.head()"
   ]
  },
  {
   "cell_type": "code",
   "execution_count": 67,
   "metadata": {
    "collapsed": true
   },
   "outputs": [],
   "source": [
    "comp_prod_pd = comp_prod_pd.sort_values('comp_ID')\n",
    "comp_prod_pd = comp_prod_pd.set_index('comp_ID')\n",
    "comp_prod_pd.to_sql('ic_comp_prod', comp_db, if_exists='replace')\n",
    "comp_prod_pd = comp_prod_pd.reset_index()"
   ]
  }
 ],
 "metadata": {
  "anaconda-cloud": {},
  "kernelspec": {
   "display_name": "Python 3",
   "language": "python",
   "name": "python3"
  },
  "language_info": {
   "codemirror_mode": {
    "name": "ipython",
    "version": 3
   },
   "file_extension": ".py",
   "mimetype": "text/x-python",
   "name": "python",
   "nbconvert_exporter": "python",
   "pygments_lexer": "ipython3",
   "version": "3.6.5"
  }
 },
 "nbformat": 4,
 "nbformat_minor": 2
}
